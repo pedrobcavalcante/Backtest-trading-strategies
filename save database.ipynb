{
 "cells": [
  {
   "cell_type": "markdown",
   "metadata": {},
   "source": [
    "#Adicionando TinyDb\n"
   ]
  },
  {
   "cell_type": "code",
   "execution_count": 1,
   "metadata": {},
   "outputs": [],
   "source": [
    "from tinydb import TinyDB, Query\n",
    "import os\n",
    "import pandas as pd"
   ]
  },
  {
   "cell_type": "code",
   "execution_count": 2,
   "metadata": {},
   "outputs": [],
   "source": [
    "db = TinyDB(os.path.join('DB', 'estrategys.json'))\n"
   ]
  },
  {
   "cell_type": "code",
   "execution_count": 3,
   "metadata": {},
   "outputs": [],
   "source": [
    "listaDeArquivosDeEstrategias = os.listdir(\"estrategy results\")"
   ]
  },
  {
   "cell_type": "code",
   "execution_count": 4,
   "metadata": {},
   "outputs": [],
   "source": [
    "# doc1 = pd.read_csv(os.path.join(\"estrategy results\",\n",
    "#                    listaDeArquivosDeEstrategias[0]), sep=';')"
   ]
  },
  {
   "cell_type": "code",
   "execution_count": 5,
   "metadata": {},
   "outputs": [],
   "source": [
    "def stringToDf(string):\n",
    "    df = pd.DataFrame([x.split(';') for x in string.split('\\n')])\n",
    "    df.columns = ['variable']\n",
    "    df['value'] = df['variable'].apply(lambda x: x.split('   ')[-1])\n",
    "    df['variable'] = df['variable'].apply(lambda x: x.split('   ')[0])\n",
    "    return df\n"
   ]
  },
  {
   "cell_type": "code",
   "execution_count": 6,
   "metadata": {},
   "outputs": [],
   "source": [
    "def iterate_df(df):\n",
    "    maiorValor = []\n",
    "    for i in range(len(df)):\n",
    "        maiorValor.append(df.iloc[i].to_dict())\n",
    "    return maiorValor\n"
   ]
  },
  {
   "cell_type": "code",
   "execution_count": 7,
   "metadata": {},
   "outputs": [],
   "source": [
    "# res = iterate_df(doc1)\n",
    "# arrey = listaDeArquivosDeEstrategias[0].split(\"_\")\n",
    "# stringToDf(res['output']).values.tolist()"
   ]
  },
  {
   "cell_type": "code",
   "execution_count": 8,
   "metadata": {},
   "outputs": [],
   "source": [
    "def salvarNoDb(res, arrey_do_nome_da_estrategia_separado):\n",
    "    try:\n",
    "        listaDeResultados = {}\n",
    "        for item in stringToDf(res['output']).values.tolist():\n",
    "            item1 = item[0].replace('_', '').replace('#', '').strip()\n",
    "            item2 = item[1].replace('\\r', '').replace(\n",
    "                '\\n', '').replace('...', '').strip()\n",
    "\n",
    "            if item1 == \"Trades\" or item1 == \"Exposure Time [%]\" or item1 == \"Exposure Time [%]\" or item1 == \"Return [%]\" or item1 == \"Buy & Hold Return [%]\" or item1 == \"Return (Ann.) [%]\" or item1 == 'Volatility (Ann.) [%]' or item1 == 'Equity Final [$]' or item1 == 'Equity Peak [$]' or item1 == 'Sharpe Ratio' or item1 == 'Sortino Ratio' or item1 == 'Calmar Ratio' or item1 == 'Max. Drawdown [%]' or item1 == 'Avg. Drawdown [%]' or item1 == 'Win Rate [%]' or item1 == 'Best Trade [%]' or item1 == 'Worst Trade [%]' or item1 == 'Expectancy [%]' or item1 == 'SQN' or item1 == 'Profit Factor' or item1 == 'Avg. Trade [%]':\n",
    "                item2 = float(item2)\n",
    "            listaDeResultados.__setitem__(item1, item2)\n",
    "        listaDeResultados\n",
    "        resultado = {\"ticket\": arrey_do_nome_da_estrategia_separado[0], \"strategy\": {\n",
    "            \"name\": arrey_do_nome_da_estrategia_separado[2], \"timeFrame\": arrey_do_nome_da_estrategia_separado[1], \"params\": {\"SMA1\": float(res['sma1']), \"SMA2\": float(res['sma2']), }, },  \"results\": listaDeResultados}\n",
    "        table = db.table('estrategys')\n",
    "        table.insert(resultado)\n",
    "    except TypeError:\n",
    "        print(TypeError)\n"
   ]
  },
  {
   "cell_type": "code",
   "execution_count": 9,
   "metadata": {},
   "outputs": [],
   "source": [
    "listaDeArquivosDeEstrategias = os.listdir(\"estrategy results\")\n",
    "for itemName in listaDeArquivosDeEstrategias:\n",
    "    doc1 = pd.read_csv(os.path.join(\"estrategy results\", itemName), sep=';')\n",
    "    res = iterate_df(doc1)\n",
    "    arrey_do_nome_da_estrategia_separado = itemName.split(\"_\")\n",
    "\n",
    "    for dataframe in res:\n",
    "        salvarNoDb(dataframe,arrey_do_nome_da_estrategia_separado)\n"
   ]
  }
 ],
 "metadata": {
  "interpreter": {
   "hash": "74ab7c6ffe6706754a8af46cc4d18eebe476c74ce21a19282f620e1b1e9919fe"
  },
  "kernelspec": {
   "display_name": "Python 3.8.8 64-bit ('base': conda)",
   "name": "python3"
  },
  "language_info": {
   "codemirror_mode": {
    "name": "ipython",
    "version": 3
   },
   "file_extension": ".py",
   "mimetype": "text/x-python",
   "name": "python",
   "nbconvert_exporter": "python",
   "pygments_lexer": "ipython3",
   "version": "3.8.8"
  },
  "orig_nbformat": 4
 },
 "nbformat": 4,
 "nbformat_minor": 2
}
