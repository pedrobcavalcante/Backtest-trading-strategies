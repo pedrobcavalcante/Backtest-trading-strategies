{
  "cells": [
    {
      "cell_type": "markdown",
      "metadata": {
        "colab_type": "text",
        "id": "view-in-github"
      },
      "source": [
        "<a href=\"https://colab.research.google.com/github/pedrobcavalcante/Backtest-trading-strategies/blob/main/Gerador_de_Par%C3%A2metros_para_estrat%C3%A9gias.ipynb\" target=\"_parent\"><img src=\"https://colab.research.google.com/assets/colab-badge.svg\" alt=\"Open In Colab\"/></a>\n"
      ]
    },
    {
      "cell_type": "code",
      "execution_count": 65,
      "metadata": {
        "colab": {
          "base_uri": "https://localhost:8080/"
        },
        "id": "JyEwn_wHZqNQ",
        "outputId": "cf50d3dd-ca3f-432f-c1fa-6eb8b7464eb9"
      },
      "outputs": [],
      "source": [
        "import backtesting \n",
        "from backtesting import Backtest, Strategy\n",
        "from backtesting.lib import crossover\n",
        "import os.path\n",
        "import requests\n",
        "import json\n",
        "import pandas as pd\n",
        "import numpy as np\n",
        "import matplotlib.pyplot as plt\n",
        "import datetime as dt\n",
        "backtesting.set_bokeh_output(notebook=False)\n"
      ]
    },
    {
      "cell_type": "code",
      "execution_count": 66,
      "metadata": {
        "id": "InNo_vMAZqNW"
      },
      "outputs": [],
      "source": [
        "from backtesting.test import SMA\n"
      ]
    },
    {
      "cell_type": "code",
      "execution_count": 67,
      "metadata": {
        "id": "YQf2kD3TZqNY"
      },
      "outputs": [],
      "source": [
        "def fixData(data):\n",
        "    columns = ['open_time', 'Open', 'High', 'Low', 'Close', 'Volume',\n",
        "               'close_time', 'qav', 'num_trades',\n",
        "               'taker_base_vol', 'taker_quote_vol', 'ignore']\n",
        "    df = pd.DataFrame(data, columns=columns)\n",
        "    df.index = [dt.datetime.fromtimestamp(x/1000.0).date() for x in df.close_time]\n",
        "    df.sort_values([\"open_time\"], ascending=False)\n",
        "    df = df.astype('double')\n",
        "    df['Volume'] = df['Volume'].astype('int')\n",
        "    df = df.drop(['qav', 'num_trades', 'taker_base_vol',\n",
        "                 'taker_quote_vol', 'ignore'], axis=1)\n",
        "    return df\n"
      ]
    },
    {
      "cell_type": "code",
      "execution_count": 68,
      "metadata": {
        "id": "Im8kCNAZZqNZ"
      },
      "outputs": [],
      "source": [
        "def get_bars(symbol, interval='1h'):\n",
        "    root_url = 'https://api.binance.com/api/v1/klines'\n",
        "    filename = \"data/\"+symbol+\"_\"+interval+\".csv\"\n",
        "    url = root_url + '?symbol=' + symbol + '&interval=' + interval+\"&limit=1001\"\n",
        "    print(url)\n",
        "    data = json.loads(requests.get(url).text)\n",
        "    df = fixData(data)\n",
        "#    df.to_csv(filename, sep=';')\n",
        "    return df\n"
      ]
    },
    {
      "cell_type": "code",
      "execution_count": 69,
      "metadata": {
        "id": "ReOM_Q73ZqNc"
      },
      "outputs": [],
      "source": [
        "class SmaCross(Strategy):\n",
        "    n1 = 0\n",
        "    n2 = 0\n",
        "\n",
        "    def init(self):\n",
        "        # Precompute the two moving averages\n",
        "        self.sma1 = self.I(SMA, self.data.High, self.n1)\n",
        "        self.sma2 = self.I(SMA, self.data.Low, self.n2)\n",
        "\n",
        "    def next(self):\n",
        "        # If sma1 crosses above sma2, close any existing\n",
        "        # short trades, and buy the asset\n",
        "        if crossover(self.data.Close, self.sma1):\n",
        "            # self.position.close()\n",
        "            self.buy()\n",
        "\n",
        "        # Else, if sma1 crosses below sma2, close any existing\n",
        "        # long trades, and sell the asset\n",
        "        elif crossover(self.sma2, self.data.Close):\n",
        "            self.position.close()\n",
        "            # self.sell()\n",
        "\n",
        "    def setInitialParams(self, valor1, valor2):\n",
        "        self.n1 = valor1\n",
        "        self.n2 = valor2\n"
      ]
    },
    {
      "cell_type": "markdown",
      "metadata": {
        "id": "VKfrrsecgTcx"
      },
      "source": [
        "# Nova seção\n"
      ]
    },
    {
      "cell_type": "code",
      "execution_count": 70,
      "metadata": {
        "id": "6AKQCVnqZqNj"
      },
      "outputs": [
        {
          "name": "stdout",
          "output_type": "stream",
          "text": [
            "https://api.binance.com/api/v1/klines?symbol=BTCUSDT&interval=1d&limit=1001\n"
          ]
        },
        {
          "name": "stderr",
          "output_type": "stream",
          "text": [
            "/home/pedro/anaconda3/lib/python3.7/site-packages/ipykernel_launcher.py:3: UserWarning: Data index is not datetime. Assuming simple periods, but `pd.DateTimeIndex` is advised.\n",
            "  This is separate from the ipykernel package so we can avoid doing imports until\n"
          ]
        },
        {
          "name": "stdout",
          "output_type": "stream",
          "text": [
            "Start                              2019-01-30\n",
            "End                                2021-10-25\n",
            "Duration                    999 days 00:00:00\n",
            "Exposure Time [%]                          66\n",
            "Equity Final [$]                  8.10698e+06\n",
            "Equity Peak [$]                   8.81364e+06\n",
            "Return [%]                            710.698\n",
            "Buy & Hold Return [%]                 1726.16\n",
            "Return (Ann.) [%]                           0\n",
            "Volatility (Ann.) [%]                     NaN\n",
            "Sharpe Ratio                              NaN\n",
            "Sortino Ratio                             NaN\n",
            "Calmar Ratio                                0\n",
            "Max. Drawdown [%]                    -42.1184\n",
            "Avg. Drawdown [%]                     -8.1151\n",
            "Max. Drawdown Duration      489 days 00:00:00\n",
            "Avg. Drawdown Duration       36 days 00:00:00\n",
            "# Trades                                  113\n",
            "Win Rate [%]                          53.9823\n",
            "Best Trade [%]                        37.3781\n",
            "Worst Trade [%]                      -21.1858\n",
            "Avg. Trade [%]                        1.87387\n",
            "Max. Trade Duration          15 days 00:00:00\n",
            "Avg. Trade Duration           6 days 00:00:00\n",
            "Profit Factor                         1.89729\n",
            "Expectancy [%]                        2.35153\n",
            "SQN                                    1.5767\n",
            "_strategy                            SmaCross\n",
            "_equity_curve                             ...\n",
            "_trades                        Size  Entry...\n",
            "dtype: object\n"
          ]
        },
        {
          "data": {
            "text/html": [
              "<div style=\"display: table;\"><div style=\"display: table-row;\"><div style=\"display: table-cell;\"><b title=\"bokeh.models.layouts.Row\">Row</b>(</div><div style=\"display: table-cell;\">id&nbsp;=&nbsp;'6491', <span id=\"6958\" style=\"cursor: pointer;\">&hellip;)</span></div></div><div class=\"6957\" style=\"display: none;\"><div style=\"display: table-cell;\"></div><div style=\"display: table-cell;\">align&nbsp;=&nbsp;'start',</div></div><div class=\"6957\" style=\"display: none;\"><div style=\"display: table-cell;\"></div><div style=\"display: table-cell;\">aspect_ratio&nbsp;=&nbsp;None,</div></div><div class=\"6957\" style=\"display: none;\"><div style=\"display: table-cell;\"></div><div style=\"display: table-cell;\">background&nbsp;=&nbsp;None,</div></div><div class=\"6957\" style=\"display: none;\"><div style=\"display: table-cell;\"></div><div style=\"display: table-cell;\">children&nbsp;=&nbsp;[GridBox(id='6488', ...), ToolbarBox(id='6490', ...)],</div></div><div class=\"6957\" style=\"display: none;\"><div style=\"display: table-cell;\"></div><div style=\"display: table-cell;\">cols&nbsp;=&nbsp;'auto',</div></div><div class=\"6957\" style=\"display: none;\"><div style=\"display: table-cell;\"></div><div style=\"display: table-cell;\">css_classes&nbsp;=&nbsp;[],</div></div><div class=\"6957\" style=\"display: none;\"><div style=\"display: table-cell;\"></div><div style=\"display: table-cell;\">disabled&nbsp;=&nbsp;False,</div></div><div class=\"6957\" style=\"display: none;\"><div style=\"display: table-cell;\"></div><div style=\"display: table-cell;\">height&nbsp;=&nbsp;None,</div></div><div class=\"6957\" style=\"display: none;\"><div style=\"display: table-cell;\"></div><div style=\"display: table-cell;\">height_policy&nbsp;=&nbsp;'auto',</div></div><div class=\"6957\" style=\"display: none;\"><div style=\"display: table-cell;\"></div><div style=\"display: table-cell;\">js_event_callbacks&nbsp;=&nbsp;{},</div></div><div class=\"6957\" style=\"display: none;\"><div style=\"display: table-cell;\"></div><div style=\"display: table-cell;\">js_property_callbacks&nbsp;=&nbsp;{},</div></div><div class=\"6957\" style=\"display: none;\"><div style=\"display: table-cell;\"></div><div style=\"display: table-cell;\">margin&nbsp;=&nbsp;(0, 0, 0, 0),</div></div><div class=\"6957\" style=\"display: none;\"><div style=\"display: table-cell;\"></div><div style=\"display: table-cell;\">max_height&nbsp;=&nbsp;None,</div></div><div class=\"6957\" style=\"display: none;\"><div style=\"display: table-cell;\"></div><div style=\"display: table-cell;\">max_width&nbsp;=&nbsp;None,</div></div><div class=\"6957\" style=\"display: none;\"><div style=\"display: table-cell;\"></div><div style=\"display: table-cell;\">min_height&nbsp;=&nbsp;None,</div></div><div class=\"6957\" style=\"display: none;\"><div style=\"display: table-cell;\"></div><div style=\"display: table-cell;\">min_width&nbsp;=&nbsp;None,</div></div><div class=\"6957\" style=\"display: none;\"><div style=\"display: table-cell;\"></div><div style=\"display: table-cell;\">name&nbsp;=&nbsp;None,</div></div><div class=\"6957\" style=\"display: none;\"><div style=\"display: table-cell;\"></div><div style=\"display: table-cell;\">sizing_mode&nbsp;=&nbsp;'stretch_width',</div></div><div class=\"6957\" style=\"display: none;\"><div style=\"display: table-cell;\"></div><div style=\"display: table-cell;\">spacing&nbsp;=&nbsp;0,</div></div><div class=\"6957\" style=\"display: none;\"><div style=\"display: table-cell;\"></div><div style=\"display: table-cell;\">subscribed_events&nbsp;=&nbsp;[],</div></div><div class=\"6957\" style=\"display: none;\"><div style=\"display: table-cell;\"></div><div style=\"display: table-cell;\">tags&nbsp;=&nbsp;[],</div></div><div class=\"6957\" style=\"display: none;\"><div style=\"display: table-cell;\"></div><div style=\"display: table-cell;\">visible&nbsp;=&nbsp;True,</div></div><div class=\"6957\" style=\"display: none;\"><div style=\"display: table-cell;\"></div><div style=\"display: table-cell;\">width&nbsp;=&nbsp;None,</div></div><div class=\"6957\" style=\"display: none;\"><div style=\"display: table-cell;\"></div><div style=\"display: table-cell;\">width_policy&nbsp;=&nbsp;'auto')</div></div></div>\n",
              "<script>\n",
              "(function() {\n",
              "  var expanded = false;\n",
              "  var ellipsis = document.getElementById(\"6958\");\n",
              "  ellipsis.addEventListener(\"click\", function() {\n",
              "    var rows = document.getElementsByClassName(\"6957\");\n",
              "    for (var i = 0; i < rows.length; i++) {\n",
              "      var el = rows[i];\n",
              "      el.style.display = expanded ? \"none\" : \"table-row\";\n",
              "    }\n",
              "    ellipsis.innerHTML = expanded ? \"&hellip;)\" : \"&lsaquo;&lsaquo;&lsaquo;\";\n",
              "    expanded = !expanded;\n",
              "  });\n",
              "})();\n",
              "</script>\n"
            ],
            "text/plain": [
              "Row(id='6491', ...)"
            ]
          },
          "execution_count": 70,
          "metadata": {},
          "output_type": "execute_result"
        }
      ],
      "source": [
        "\n",
        "data = get_bars(\"BTCUSDT\", \"1d\")\n",
        "SmaCross.setInitialParams(SmaCross,5,5)\n",
        "bt = Backtest(data, SmaCross,cash=1000000,exclusive_orders=False)\n",
        "output = bt.run()\n",
        "print(output)\n",
        "bt.plot()\n"
      ]
    },
    {
      "cell_type": "code",
      "execution_count": null,
      "metadata": {
        "id": "P1nbIxPvZqNj"
      },
      "outputs": [],
      "source": []
    }
  ],
  "metadata": {
    "colab": {
      "collapsed_sections": [],
      "include_colab_link": true,
      "name": "Gerador de Parâmetros para estratégias.ipynb",
      "provenance": []
    },
    "interpreter": {
      "hash": "4668b2b94aebe22ab6a379c52b27e87f14fb5565ac42686a2db709d03229b54e"
    },
    "kernelspec": {
      "display_name": "Python 3.7.6 64-bit ('base': conda)",
      "name": "python3"
    },
    "language_info": {
      "codemirror_mode": {
        "name": "ipython",
        "version": 3
      },
      "file_extension": ".py",
      "mimetype": "text/x-python",
      "name": "python",
      "nbconvert_exporter": "python",
      "pygments_lexer": "ipython3",
      "version": "3.7.6"
    }
  },
  "nbformat": 4,
  "nbformat_minor": 0
}
