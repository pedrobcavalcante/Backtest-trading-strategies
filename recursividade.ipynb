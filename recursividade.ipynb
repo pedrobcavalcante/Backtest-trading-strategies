{
 "cells": [
  {
   "cell_type": "code",
   "execution_count": null,
   "metadata": {},
   "outputs": [],
   "source": [
    "def printar(lista):\n",
    "    for i in lista:\n",
    "        print(i, end=' ')\n",
    "    print()"
   ]
  },
  {
   "cell_type": "code",
   "execution_count": null,
   "metadata": {},
   "outputs": [],
   "source": [
    "def executarFuncaoRecursiva(listaDeListas,newlist = [], modificadorInicial = 0):\n",
    "    if not newlist: newlist.extend(listaDeListas)\n",
    "    tamanhoLista = len(listaDeListas)\n",
    "    for i in listaDeListas[modificadorInicial]:\n",
    "        if modificadorInicial < tamanhoLista-1:\n",
    "            newlist[modificadorInicial] = i\n",
    "            executarFuncaoRecursiva(listaDeListas,newlist,modificadorInicial+1)\n",
    "        else:\n",
    "            newlist[modificadorInicial] = i\n",
    "            printar(newlist)\n",
    "\n",
    "\n",
    "meuArray = [[1,2,3],[1,2,3],[1,2,3],[1,2,3],[1,2,3]]\n",
    "executarFuncaoRecursiva(meuArray)\n"
   ]
  },
  {
   "cell_type": "code",
   "execution_count": null,
   "metadata": {},
   "outputs": [],
   "source": [
    "def printar(lista):\n",
    "    for i in lista:\n",
    "        print(i, end=' ')\n",
    "    print()\n",
    "\n",
    "def executarFuncaoRecursiva2(listaDeListas):\n",
    "    def recursividade(newlist = [], modificadorInicial = 0):\n",
    "        if not newlist: newlist.extend(listaDeListas)\n",
    "        tamanhoLista = len(listaDeListas)\n",
    "        for i in listaDeListas[modificadorInicial]:\n",
    "            if modificadorInicial < tamanhoLista-1:\n",
    "                newlist[modificadorInicial] = i\n",
    "                recursividade(newlist,modificadorInicial+1)\n",
    "            else:\n",
    "                newlist[modificadorInicial] = i\n",
    "                printar(newlist)\n",
    "    recursividade()"
   ]
  },
  {
   "cell_type": "code",
   "execution_count": null,
   "metadata": {},
   "outputs": [],
   "source": [
    "meuArray = [[1,2,3],[1,2,3],[1,2,3],[1,2,3],[1,2,3]]\n",
    "value = (zip(meuArray))\n",
    "value\n"
   ]
  },
  {
   "cell_type": "code",
   "execution_count": null,
   "metadata": {},
   "outputs": [],
   "source": []
  }
 ],
 "metadata": {
  "interpreter": {
   "hash": "74ab7c6ffe6706754a8af46cc4d18eebe476c74ce21a19282f620e1b1e9919fe"
  },
  "kernelspec": {
   "display_name": "Python 3.8.8 64-bit ('base': conda)",
   "name": "python3"
  },
  "language_info": {
   "codemirror_mode": {
    "name": "ipython",
    "version": 3
   },
   "file_extension": ".py",
   "mimetype": "text/x-python",
   "name": "python",
   "nbconvert_exporter": "python",
   "pygments_lexer": "ipython3",
   "version": "3.8.8"
  },
  "orig_nbformat": 4
 },
 "nbformat": 4,
 "nbformat_minor": 2
}
