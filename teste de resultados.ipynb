{
  "cells": [
    {
      "cell_type": "markdown",
      "metadata": {
        "colab_type": "text",
        "id": "view-in-github"
      },
      "source": [
        "<a href=\"https://colab.research.google.com/github/pedrobcavalcante/Backtest-trading-strategies/blob/main/Gerador_de_Par%C3%A2metros_para_estrat%C3%A9gias.ipynb\" target=\"_parent\"><img src=\"https://colab.research.google.com/assets/colab-badge.svg\" alt=\"Open In Colab\"/></a>\n"
      ]
    },
    {
      "cell_type": "code",
      "execution_count": 11,
      "metadata": {
        "colab": {
          "base_uri": "https://localhost:8080/"
        },
        "id": "JyEwn_wHZqNQ",
        "outputId": "cf50d3dd-ca3f-432f-c1fa-6eb8b7464eb9"
      },
      "outputs": [],
      "source": [
        "import backtesting \n",
        "from backtesting import Backtest, Strategy\n",
        "from backtesting.lib import crossover\n",
        "import os.path\n",
        "import requests\n",
        "import json\n",
        "import pandas as pd\n",
        "import numpy as np\n",
        "import matplotlib.pyplot as plt\n",
        "import datetime as dt\n",
        "backtesting.set_bokeh_output(notebook=False)\n"
      ]
    },
    {
      "cell_type": "code",
      "execution_count": 12,
      "metadata": {
        "id": "InNo_vMAZqNW"
      },
      "outputs": [],
      "source": [
        "from backtesting.test import SMA\n"
      ]
    },
    {
      "cell_type": "code",
      "execution_count": 13,
      "metadata": {
        "id": "YQf2kD3TZqNY"
      },
      "outputs": [],
      "source": [
        "def fixData(data):\n",
        "    columns = ['open_time', 'Open', 'High', 'Low', 'Close', 'Volume',\n",
        "               'close_time', 'qav', 'num_trades',\n",
        "               'taker_base_vol', 'taker_quote_vol', 'ignore']\n",
        "    df = pd.DataFrame(data, columns=columns)\n",
        "    df.index = [dt.datetime.fromtimestamp(x/1000.0).date() for x in df.close_time]\n",
        "    df.sort_values([\"open_time\"], ascending=False)\n",
        "    df = df.astype('double')\n",
        "    df['Volume'] = df['Volume'].astype('int')\n",
        "    df = df.drop(['qav', 'num_trades', 'taker_base_vol',\n",
        "                 'taker_quote_vol', 'ignore'], axis=1)\n",
        "    return df\n"
      ]
    },
    {
      "cell_type": "code",
      "execution_count": 14,
      "metadata": {
        "id": "Im8kCNAZZqNZ"
      },
      "outputs": [],
      "source": [
        "def get_bars(symbol, interval='1h'):\n",
        "    root_url = 'https://api.binance.com/api/v1/klines'\n",
        "    filename = \"data/\"+symbol+\"_\"+interval+\".csv\"\n",
        "    url = root_url + '?symbol=' + symbol + '&interval=' + interval+\"&limit=1001\"\n",
        "    print(url)\n",
        "    data = json.loads(requests.get(url).text)\n",
        "    df = fixData(data)\n",
        "#    df.to_csv(filename, sep=';')\n",
        "    return df\n"
      ]
    },
    {
      "cell_type": "code",
      "execution_count": 15,
      "metadata": {
        "colab": {
          "base_uri": "https://localhost:8080/",
          "height": 436
        },
        "id": "5JIpu4mKZqNa",
        "outputId": "24e9a2e4-5471-4202-88e4-ade0a83317b7"
      },
      "outputs": [
        {
          "name": "stdout",
          "output_type": "stream",
          "text": [
            "https://api.binance.com/api/v1/klines?symbol=BTCUSDT&interval=1d&limit=1001\n"
          ]
        },
        {
          "data": {
            "text/html": [
              "<div>\n",
              "<style scoped>\n",
              "    .dataframe tbody tr th:only-of-type {\n",
              "        vertical-align: middle;\n",
              "    }\n",
              "\n",
              "    .dataframe tbody tr th {\n",
              "        vertical-align: top;\n",
              "    }\n",
              "\n",
              "    .dataframe thead th {\n",
              "        text-align: right;\n",
              "    }\n",
              "</style>\n",
              "<table border=\"1\" class=\"dataframe\">\n",
              "  <thead>\n",
              "    <tr style=\"text-align: right;\">\n",
              "      <th></th>\n",
              "      <th>open_time</th>\n",
              "      <th>Open</th>\n",
              "      <th>High</th>\n",
              "      <th>Low</th>\n",
              "      <th>Close</th>\n",
              "      <th>Volume</th>\n",
              "      <th>close_time</th>\n",
              "    </tr>\n",
              "  </thead>\n",
              "  <tbody>\n",
              "    <tr>\n",
              "      <th>2019-01-30</th>\n",
              "      <td>1.548806e+12</td>\n",
              "      <td>3410.04</td>\n",
              "      <td>3478.00</td>\n",
              "      <td>3387.10</td>\n",
              "      <td>3458.18</td>\n",
              "      <td>23968</td>\n",
              "      <td>1.548893e+12</td>\n",
              "    </tr>\n",
              "    <tr>\n",
              "      <th>2019-01-31</th>\n",
              "      <td>1.548893e+12</td>\n",
              "      <td>3457.50</td>\n",
              "      <td>3489.20</td>\n",
              "      <td>3418.80</td>\n",
              "      <td>3434.10</td>\n",
              "      <td>29607</td>\n",
              "      <td>1.548979e+12</td>\n",
              "    </tr>\n",
              "    <tr>\n",
              "      <th>2019-02-01</th>\n",
              "      <td>1.548979e+12</td>\n",
              "      <td>3434.10</td>\n",
              "      <td>3488.00</td>\n",
              "      <td>3401.20</td>\n",
              "      <td>3462.07</td>\n",
              "      <td>25260</td>\n",
              "      <td>1.549066e+12</td>\n",
              "    </tr>\n",
              "    <tr>\n",
              "      <th>2019-02-02</th>\n",
              "      <td>1.549066e+12</td>\n",
              "      <td>3462.20</td>\n",
              "      <td>3526.40</td>\n",
              "      <td>3440.29</td>\n",
              "      <td>3504.77</td>\n",
              "      <td>17920</td>\n",
              "      <td>1.549152e+12</td>\n",
              "    </tr>\n",
              "    <tr>\n",
              "      <th>2019-02-03</th>\n",
              "      <td>1.549152e+12</td>\n",
              "      <td>3504.06</td>\n",
              "      <td>3511.09</td>\n",
              "      <td>3426.00</td>\n",
              "      <td>3458.11</td>\n",
              "      <td>19867</td>\n",
              "      <td>1.549238e+12</td>\n",
              "    </tr>\n",
              "    <tr>\n",
              "      <th>...</th>\n",
              "      <td>...</td>\n",
              "      <td>...</td>\n",
              "      <td>...</td>\n",
              "      <td>...</td>\n",
              "      <td>...</td>\n",
              "      <td>...</td>\n",
              "      <td>...</td>\n",
              "    </tr>\n",
              "    <tr>\n",
              "      <th>2021-10-21</th>\n",
              "      <td>1.634774e+12</td>\n",
              "      <td>66001.40</td>\n",
              "      <td>66639.74</td>\n",
              "      <td>62000.00</td>\n",
              "      <td>62193.15</td>\n",
              "      <td>68538</td>\n",
              "      <td>1.634861e+12</td>\n",
              "    </tr>\n",
              "    <tr>\n",
              "      <th>2021-10-22</th>\n",
              "      <td>1.634861e+12</td>\n",
              "      <td>62193.15</td>\n",
              "      <td>63732.39</td>\n",
              "      <td>60000.00</td>\n",
              "      <td>60688.22</td>\n",
              "      <td>52119</td>\n",
              "      <td>1.634947e+12</td>\n",
              "    </tr>\n",
              "    <tr>\n",
              "      <th>2021-10-23</th>\n",
              "      <td>1.634947e+12</td>\n",
              "      <td>60688.23</td>\n",
              "      <td>61747.64</td>\n",
              "      <td>59562.15</td>\n",
              "      <td>61286.75</td>\n",
              "      <td>27626</td>\n",
              "      <td>1.635034e+12</td>\n",
              "    </tr>\n",
              "    <tr>\n",
              "      <th>2021-10-24</th>\n",
              "      <td>1.635034e+12</td>\n",
              "      <td>61286.75</td>\n",
              "      <td>61500.00</td>\n",
              "      <td>59510.63</td>\n",
              "      <td>60852.22</td>\n",
              "      <td>31226</td>\n",
              "      <td>1.635120e+12</td>\n",
              "    </tr>\n",
              "    <tr>\n",
              "      <th>2021-10-25</th>\n",
              "      <td>1.635120e+12</td>\n",
              "      <td>60852.22</td>\n",
              "      <td>63710.63</td>\n",
              "      <td>60650.00</td>\n",
              "      <td>62852.27</td>\n",
              "      <td>35950</td>\n",
              "      <td>1.635206e+12</td>\n",
              "    </tr>\n",
              "  </tbody>\n",
              "</table>\n",
              "<p>1000 rows × 7 columns</p>\n",
              "</div>"
            ],
            "text/plain": [
              "               open_time      Open      High       Low     Close  Volume  \\\n",
              "2019-01-30  1.548806e+12   3410.04   3478.00   3387.10   3458.18   23968   \n",
              "2019-01-31  1.548893e+12   3457.50   3489.20   3418.80   3434.10   29607   \n",
              "2019-02-01  1.548979e+12   3434.10   3488.00   3401.20   3462.07   25260   \n",
              "2019-02-02  1.549066e+12   3462.20   3526.40   3440.29   3504.77   17920   \n",
              "2019-02-03  1.549152e+12   3504.06   3511.09   3426.00   3458.11   19867   \n",
              "...                  ...       ...       ...       ...       ...     ...   \n",
              "2021-10-21  1.634774e+12  66001.40  66639.74  62000.00  62193.15   68538   \n",
              "2021-10-22  1.634861e+12  62193.15  63732.39  60000.00  60688.22   52119   \n",
              "2021-10-23  1.634947e+12  60688.23  61747.64  59562.15  61286.75   27626   \n",
              "2021-10-24  1.635034e+12  61286.75  61500.00  59510.63  60852.22   31226   \n",
              "2021-10-25  1.635120e+12  60852.22  63710.63  60650.00  62852.27   35950   \n",
              "\n",
              "              close_time  \n",
              "2019-01-30  1.548893e+12  \n",
              "2019-01-31  1.548979e+12  \n",
              "2019-02-01  1.549066e+12  \n",
              "2019-02-02  1.549152e+12  \n",
              "2019-02-03  1.549238e+12  \n",
              "...                  ...  \n",
              "2021-10-21  1.634861e+12  \n",
              "2021-10-22  1.634947e+12  \n",
              "2021-10-23  1.635034e+12  \n",
              "2021-10-24  1.635120e+12  \n",
              "2021-10-25  1.635206e+12  \n",
              "\n",
              "[1000 rows x 7 columns]"
            ]
          },
          "execution_count": 15,
          "metadata": {},
          "output_type": "execute_result"
        }
      ],
      "source": [
        "dataframe = get_bars(\"BTCUSDT\", \"1d\")\n",
        "dataframe\n"
      ]
    },
    {
      "cell_type": "code",
      "execution_count": 16,
      "metadata": {
        "id": "ReOM_Q73ZqNc"
      },
      "outputs": [],
      "source": [
        "class SmaCross(Strategy):\n",
        "    n1 = 0\n",
        "    n2 = 0\n",
        "\n",
        "    def init(self):\n",
        "        # Precompute the two moving averages\n",
        "        self.sma1 = self.I(SMA, self.data.Close, self.n1)\n",
        "        self.sma2 = self.I(SMA, self.data.Close, self.n2)\n",
        "\n",
        "    def next(self):\n",
        "        # If sma1 crosses above sma2, close any existing\n",
        "        # short trades, and buy the asset\n",
        "        if crossover(self.sma1, self.sma2):\n",
        "            self.position.close()\n",
        "            self.buy()\n",
        "\n",
        "        # Else, if sma1 crosses below sma2, close any existing\n",
        "        # long trades, and sell the asset\n",
        "        elif crossover(self.sma2, self.sma1):\n",
        "            self.position.close()\n",
        "            # self.sell()\n",
        "\n",
        "    def setInitialParams(self, valor1, valor2):\n",
        "        self.n1 = valor1\n",
        "        self.n2 = valor2\n"
      ]
    },
    {
      "cell_type": "code",
      "execution_count": 17,
      "metadata": {
        "id": "4AOluaURZqNe"
      },
      "outputs": [],
      "source": [
        "def gerarParametros(dataframe, name, myStrategy, tamanho):\n",
        "    maiorRetorno = {}\n",
        "    maoirAcerto = {}\n",
        "    BoasEstratégiasParaSalvar = []\n",
        "    for s1 in range(tamanho):\n",
        "        s1 += 1\n",
        "        print(\"\\ntestando nos valores \", s1, end=\" \")\n",
        "        for s2 in range(tamanho):\n",
        "            s2 += 1\n",
        "            print(\",\", s2, end=\"\")\n",
        "            try:\n",
        "                SmaCross.setInitialParams(SmaCross, s1, s2)\n",
        "                bt = Backtest(dataframe, myStrategy,\n",
        "                              cash=100000000, exclusive_orders=True)\n",
        "                output = bt.run()\n",
        "                if maiorRetorno == {}:\n",
        "                    maiorRetorno = {\"sma1\": s1, \"sma2\": s2, \"output\": output}\n",
        "                if maoirAcerto == {}:\n",
        "                    maoirAcerto = {\"sma1\": s1, \"sma2\": s2, \"output\": output}\n",
        "                if output['Return [%]'] > maiorRetorno[\"output\"]['Return [%]'] and output['# Trades'] > 9:\n",
        "                    maiorRetorno = {\"sma1\": s1, \"sma2\": s2, \"output\": output}\n",
        "                if output['Return [%]'] > 0 and output['# Trades'] > 9:\n",
        "                    BoasEstratégiasParaSalvar.append(\n",
        "                        {\"sma1\": s1, \"sma2\": s2, \"output\": output})\n",
        "        #         if output['Win Rate [%]'] > maiorRetorno[\"output\"]['Win Rate [%]'] and output['# Trades'] > 9:\n",
        "        #             maoirAcerto = {\"sma1\": s1, \"sma2\":s2, \"output\":output}\n",
        "            except Exception as e:\n",
        "                print(e)\n",
        "    if not os.path.exists('estrategy results'):\n",
        "        os.makedirs('estrategy results')\n",
        "    bestParamtes = pd.DataFrame(BoasEstratégiasParaSalvar)\n",
        "    bestParamtes.to_csv(\"estrategy results/\"+name+\".csv\", sep=';')\n"
      ]
    },
    {
      "cell_type": "code",
      "execution_count": 18,
      "metadata": {
        "id": "OyNRlnILZqNi"
      },
      "outputs": [],
      "source": [
        "# print(maiorRetorno)\n",
        "# print(maoirAcerto)\n",
        "# print(BoasEstratégiasParaSalvar)\n",
        "# gerarParametros()\n",
        "# bestParamtes = pd.DataFrame (BoasEstratégiasParaSalvar)\n",
        "# bestParamtes.to_csv(\"estrategy results/melhores parametros.csv\", sep=';')\n"
      ]
    },
    {
      "cell_type": "markdown",
      "metadata": {
        "id": "VKfrrsecgTcx"
      },
      "source": [
        "# Nova seção\n"
      ]
    },
    {
      "cell_type": "code",
      "execution_count": 19,
      "metadata": {
        "id": "6AKQCVnqZqNj"
      },
      "outputs": [
        {
          "name": "stdout",
          "output_type": "stream",
          "text": [
            "https://api.binance.com/api/v1/klines?symbol=ETHUSDT&interval=1w&limit=1001\n"
          ]
        },
        {
          "name": "stderr",
          "output_type": "stream",
          "text": [
            "/home/pedro/anaconda3/lib/python3.7/site-packages/ipykernel_launcher.py:3: UserWarning: Data index is not datetime. Assuming simple periods, but `pd.DateTimeIndex` is advised.\n",
            "  This is separate from the ipykernel package so we can avoid doing imports until\n"
          ]
        },
        {
          "name": "stdout",
          "output_type": "stream",
          "text": [
            "Start                              2017-08-20\n",
            "End                                2021-10-31\n",
            "Duration                   1533 days 00:00:00\n",
            "Exposure Time [%]                     49.5455\n",
            "Equity Final [$]                  3.67822e+07\n",
            "Equity Peak [$]                   3.67822e+07\n",
            "Return [%]                            3578.22\n",
            "Buy & Hold Return [%]                 1306.69\n",
            "Return (Ann.) [%]                           0\n",
            "Volatility (Ann.) [%]                     NaN\n",
            "Sharpe Ratio                              NaN\n",
            "Sortino Ratio                             NaN\n",
            "Calmar Ratio                                0\n",
            "Max. Drawdown [%]                     -51.792\n",
            "Avg. Drawdown [%]                    -15.3271\n",
            "Max. Drawdown Duration      301 days 00:00:00\n",
            "Avg. Drawdown Duration       72 days 00:00:00\n",
            "# Trades                                    6\n",
            "Win Rate [%]                          83.3333\n",
            "Best Trade [%]                        1527.24\n",
            "Worst Trade [%]                      -34.5749\n",
            "Avg. Trade [%]                        82.3636\n",
            "Max. Trade Duration         420 days 00:00:00\n",
            "Avg. Trade Duration         121 days 00:00:00\n",
            "Profit Factor                         48.8283\n",
            "Expectancy [%]                         275.61\n",
            "SQN                                   1.40342\n",
            "_strategy                            SmaCross\n",
            "_equity_curve                             ...\n",
            "_trades                      Size  EntryBa...\n",
            "dtype: object\n"
          ]
        },
        {
          "data": {
            "text/html": [
              "<div style=\"display: table;\"><div style=\"display: table-row;\"><div style=\"display: table-cell;\"><b title=\"bokeh.models.layouts.Row\">Row</b>(</div><div style=\"display: table-cell;\">id&nbsp;=&nbsp;'3087', <span id=\"3554\" style=\"cursor: pointer;\">&hellip;)</span></div></div><div class=\"3553\" style=\"display: none;\"><div style=\"display: table-cell;\"></div><div style=\"display: table-cell;\">align&nbsp;=&nbsp;'start',</div></div><div class=\"3553\" style=\"display: none;\"><div style=\"display: table-cell;\"></div><div style=\"display: table-cell;\">aspect_ratio&nbsp;=&nbsp;None,</div></div><div class=\"3553\" style=\"display: none;\"><div style=\"display: table-cell;\"></div><div style=\"display: table-cell;\">background&nbsp;=&nbsp;None,</div></div><div class=\"3553\" style=\"display: none;\"><div style=\"display: table-cell;\"></div><div style=\"display: table-cell;\">children&nbsp;=&nbsp;[GridBox(id='3084', ...), ToolbarBox(id='3086', ...)],</div></div><div class=\"3553\" style=\"display: none;\"><div style=\"display: table-cell;\"></div><div style=\"display: table-cell;\">cols&nbsp;=&nbsp;'auto',</div></div><div class=\"3553\" style=\"display: none;\"><div style=\"display: table-cell;\"></div><div style=\"display: table-cell;\">css_classes&nbsp;=&nbsp;[],</div></div><div class=\"3553\" style=\"display: none;\"><div style=\"display: table-cell;\"></div><div style=\"display: table-cell;\">disabled&nbsp;=&nbsp;False,</div></div><div class=\"3553\" style=\"display: none;\"><div style=\"display: table-cell;\"></div><div style=\"display: table-cell;\">height&nbsp;=&nbsp;None,</div></div><div class=\"3553\" style=\"display: none;\"><div style=\"display: table-cell;\"></div><div style=\"display: table-cell;\">height_policy&nbsp;=&nbsp;'auto',</div></div><div class=\"3553\" style=\"display: none;\"><div style=\"display: table-cell;\"></div><div style=\"display: table-cell;\">js_event_callbacks&nbsp;=&nbsp;{},</div></div><div class=\"3553\" style=\"display: none;\"><div style=\"display: table-cell;\"></div><div style=\"display: table-cell;\">js_property_callbacks&nbsp;=&nbsp;{},</div></div><div class=\"3553\" style=\"display: none;\"><div style=\"display: table-cell;\"></div><div style=\"display: table-cell;\">margin&nbsp;=&nbsp;(0, 0, 0, 0),</div></div><div class=\"3553\" style=\"display: none;\"><div style=\"display: table-cell;\"></div><div style=\"display: table-cell;\">max_height&nbsp;=&nbsp;None,</div></div><div class=\"3553\" style=\"display: none;\"><div style=\"display: table-cell;\"></div><div style=\"display: table-cell;\">max_width&nbsp;=&nbsp;None,</div></div><div class=\"3553\" style=\"display: none;\"><div style=\"display: table-cell;\"></div><div style=\"display: table-cell;\">min_height&nbsp;=&nbsp;None,</div></div><div class=\"3553\" style=\"display: none;\"><div style=\"display: table-cell;\"></div><div style=\"display: table-cell;\">min_width&nbsp;=&nbsp;None,</div></div><div class=\"3553\" style=\"display: none;\"><div style=\"display: table-cell;\"></div><div style=\"display: table-cell;\">name&nbsp;=&nbsp;None,</div></div><div class=\"3553\" style=\"display: none;\"><div style=\"display: table-cell;\"></div><div style=\"display: table-cell;\">sizing_mode&nbsp;=&nbsp;'stretch_width',</div></div><div class=\"3553\" style=\"display: none;\"><div style=\"display: table-cell;\"></div><div style=\"display: table-cell;\">spacing&nbsp;=&nbsp;0,</div></div><div class=\"3553\" style=\"display: none;\"><div style=\"display: table-cell;\"></div><div style=\"display: table-cell;\">subscribed_events&nbsp;=&nbsp;[],</div></div><div class=\"3553\" style=\"display: none;\"><div style=\"display: table-cell;\"></div><div style=\"display: table-cell;\">tags&nbsp;=&nbsp;[],</div></div><div class=\"3553\" style=\"display: none;\"><div style=\"display: table-cell;\"></div><div style=\"display: table-cell;\">visible&nbsp;=&nbsp;True,</div></div><div class=\"3553\" style=\"display: none;\"><div style=\"display: table-cell;\"></div><div style=\"display: table-cell;\">width&nbsp;=&nbsp;None,</div></div><div class=\"3553\" style=\"display: none;\"><div style=\"display: table-cell;\"></div><div style=\"display: table-cell;\">width_policy&nbsp;=&nbsp;'auto')</div></div></div>\n",
              "<script>\n",
              "(function() {\n",
              "  var expanded = false;\n",
              "  var ellipsis = document.getElementById(\"3554\");\n",
              "  ellipsis.addEventListener(\"click\", function() {\n",
              "    var rows = document.getElementsByClassName(\"3553\");\n",
              "    for (var i = 0; i < rows.length; i++) {\n",
              "      var el = rows[i];\n",
              "      el.style.display = expanded ? \"none\" : \"table-row\";\n",
              "    }\n",
              "    ellipsis.innerHTML = expanded ? \"&hellip;)\" : \"&lsaquo;&lsaquo;&lsaquo;\";\n",
              "    expanded = !expanded;\n",
              "  });\n",
              "})();\n",
              "</script>\n"
            ],
            "text/plain": [
              "Row(id='3087', ...)"
            ]
          },
          "execution_count": 19,
          "metadata": {},
          "output_type": "execute_result"
        }
      ],
      "source": [
        "\n",
        "data = get_bars(\"ETHUSDT\", \"1w\")\n",
        "SmaCross.setInitialParams(SmaCross,17,19)\n",
        "bt = Backtest(data, SmaCross,cash=1000000,exclusive_orders=True)\n",
        "output = bt.run()\n",
        "print(output)\n",
        "bt.plot()\n"
      ]
    },
    {
      "cell_type": "code",
      "execution_count": null,
      "metadata": {
        "id": "P1nbIxPvZqNj"
      },
      "outputs": [],
      "source": []
    }
  ],
  "metadata": {
    "colab": {
      "collapsed_sections": [],
      "include_colab_link": true,
      "name": "Gerador de Parâmetros para estratégias.ipynb",
      "provenance": []
    },
    "interpreter": {
      "hash": "4668b2b94aebe22ab6a379c52b27e87f14fb5565ac42686a2db709d03229b54e"
    },
    "kernelspec": {
      "display_name": "Python 3.7.6 64-bit ('base': conda)",
      "name": "python3"
    },
    "language_info": {
      "codemirror_mode": {
        "name": "ipython",
        "version": 3
      },
      "file_extension": ".py",
      "mimetype": "text/x-python",
      "name": "python",
      "nbconvert_exporter": "python",
      "pygments_lexer": "ipython3",
      "version": "3.7.6"
    }
  },
  "nbformat": 4,
  "nbformat_minor": 0
}
