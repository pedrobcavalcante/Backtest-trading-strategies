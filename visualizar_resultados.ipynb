{
 "cells": [
  {
   "cell_type": "code",
   "execution_count": 118,
   "metadata": {},
   "outputs": [],
   "source": [
    "from backtesting import Backtest, Strategy\n",
    "import backtesting\n",
    "from backtesting.lib import crossover       \n",
    "import os.path       \n",
    "import pandas as pd    \n",
    "import numpy as np    \n",
    "import matplotlib.pyplot as plt \n",
    "import datetime as dt  \n",
    "backtesting.set_bokeh_output(notebook=False)"
   ]
  },
  {
   "cell_type": "code",
   "execution_count": 119,
   "metadata": {},
   "outputs": [],
   "source": [
    "BTCUSDT_1w = pd.read_csv(os.path.join('estrategy results','BTCUSDT_1w.csv'), sep=';')\n",
    "XRPUSDT_1w = pd.read_csv(os.path.join('estrategy results','XRPUSDT_1w.csv'), sep=';')"
   ]
  },
  {
   "cell_type": "code",
   "execution_count": 120,
   "metadata": {},
   "outputs": [],
   "source": [
    "def stringToDf(string):\n",
    "    df = pd.DataFrame([x.split(';') for x in string.split('\\n')])\n",
    "    df.columns = ['variable']\n",
    "    df['value'] = df['variable'].apply(lambda x: x.split('   ')[-1])\n",
    "    df['variable'] = df['variable'].apply(lambda x: x.split('   ')[0])\n",
    "    return df"
   ]
  },
  {
   "cell_type": "code",
   "execution_count": 121,
   "metadata": {},
   "outputs": [],
   "source": [
    "def iterate_df(df):\n",
    "    maiorValor = {}\n",
    "    for i in range(len(df)):\n",
    "        if maiorValor == {}:\n",
    "            maiorValor = df.iloc[i].to_dict()\n",
    "        if float(stringToDf(df['output'][i])['value'][6]) > float(stringToDf(maiorValor['output'])['value'][6]):\n",
    "            maiorValor = df.iloc[i].to_dict()\n",
    "    return maiorValor\n"
   ]
  },
  {
   "cell_type": "code",
   "execution_count": 125,
   "metadata": {},
   "outputs": [
    {
     "name": "stdout",
     "output_type": "stream",
     "text": [
      "sma1:  2  -  sma2:  6\n",
      "                  variable                  value\n",
      "0                    Start    2017-08-20 23:59...\n",
      "1                      End    2021-10-24 23:59...\n",
      "2                 Duration     1526 days 00:00:00\n",
      "3        Exposure Time [%]                 96.347\n",
      "4         Equity Final [$]            2.75998e+09\n",
      "5          Equity Peak [$]             4.0548e+09\n",
      "6               Return [%]                2659.98\n",
      "7    Buy & Hold Return [%]                1368.25\n",
      "8        Return (Ann.) [%]                25106.3\n",
      "9    Volatility (Ann.) [%]                 191224\n",
      "10            Sharpe Ratio               0.131292\n",
      "11           Sortino Ratio                 220.27\n",
      "12            Calmar Ratio                440.147\n",
      "13       Max. Drawdown [%]               -57.0407\n",
      "14       Avg. Drawdown [%]               -18.6427\n",
      "15  Max. Drawdown Duration      476 days 00:00:00\n",
      "16  Avg. Drawdown Duration       75 days 00:00:00\n",
      "17                # Trades                     37\n",
      "18            Win Rate [%]                51.3514\n",
      "19          Best Trade [%]                 191.08\n",
      "20         Worst Trade [%]               -20.2847\n",
      "21          Avg. Trade [%]                9.38144\n",
      "22     Max. Trade Duration      154 days 00:00:00\n",
      "23     Avg. Trade Duration       40 days 00:00:00\n",
      "24           Profit Factor                4.12279\n",
      "25          Expectancy [%]                16.9336\n",
      "26                     SQN               0.967762\n",
      "27               _strategy               SmaCross\n",
      "28           _equity_curve                    ...\n",
      "29                 _trades          Size  Entr...\n",
      "30           dtype: object          dtype: object\n"
     ]
    }
   ],
   "source": [
    "res = iterate_df(BTCUSDT_1w)\n",
    "print('sma1: ',res['sma1'], \" - \",'sma2: ', res['sma2'])\n",
    "print(stringToDf(res['output']))"
   ]
  },
  {
   "cell_type": "code",
   "execution_count": 126,
   "metadata": {},
   "outputs": [
    {
     "name": "stdout",
     "output_type": "stream",
     "text": [
      "sma1:  30  -  sma2:  33\n",
      "                  variable                  value\n",
      "0                    Start    2018-05-06 20:59...\n",
      "1                      End    2021-10-24 20:59...\n",
      "2                 Duration     1267 days 00:00:00\n",
      "3        Exposure Time [%]              74.725275\n",
      "4         Equity Final [$]       1105617353.69976\n",
      "5          Equity Peak [$]       1576638837.92256\n",
      "6               Return [%]            1005.617354\n",
      "7    Buy & Hold Return [%]              24.209382\n",
      "8        Return (Ann.) [%]           12286.362503\n",
      "9    Volatility (Ann.) [%]         2886663.024743\n",
      "10            Sharpe Ratio               0.004256\n",
      "11           Sortino Ratio              81.089621\n",
      "12            Calmar Ratio             192.854934\n",
      "13       Max. Drawdown [%]             -63.707795\n",
      "14       Avg. Drawdown [%]             -22.316456\n",
      "15  Max. Drawdown Duration      175 days 00:00:00\n",
      "16  Avg. Drawdown Duration       61 days 00:00:00\n",
      "17                # Trades                     11\n",
      "18            Win Rate [%]              90.909091\n",
      "19          Best Trade [%]             328.381288\n",
      "20         Worst Trade [%]              -1.253918\n",
      "21          Avg. Trade [%]              24.415121\n",
      "22     Max. Trade Duration      371 days 00:00:00\n",
      "23     Avg. Trade Duration       86 days 00:00:00\n",
      "24           Profit Factor             347.535395\n",
      "25          Expectancy [%]              39.502467\n",
      "26                     SQN               1.205076\n",
      "27               _strategy               SmaCross\n",
      "28           _equity_curve                    ...\n",
      "29                 _trades              Size  ...\n",
      "30           dtype: object          dtype: object\n"
     ]
    }
   ],
   "source": [
    "res = iterate_df(XRPUSDT_1w)\n",
    "print('sma1: ',res['sma1'], \" - \",'sma2: ', res['sma2'])\n",
    "print(stringToDf(res['output']))"
   ]
  },
  {
   "cell_type": "code",
   "execution_count": null,
   "metadata": {},
   "outputs": [],
   "source": []
  }
 ],
 "metadata": {
  "interpreter": {
   "hash": "74ab7c6ffe6706754a8af46cc4d18eebe476c74ce21a19282f620e1b1e9919fe"
  },
  "kernelspec": {
   "display_name": "Python 3.8.8 64-bit ('base': conda)",
   "name": "python3"
  },
  "language_info": {
   "codemirror_mode": {
    "name": "ipython",
    "version": 3
   },
   "file_extension": ".py",
   "mimetype": "text/x-python",
   "name": "python",
   "nbconvert_exporter": "python",
   "pygments_lexer": "ipython3",
   "version": "3.8.8"
  },
  "orig_nbformat": 4
 },
 "nbformat": 4,
 "nbformat_minor": 2
}
