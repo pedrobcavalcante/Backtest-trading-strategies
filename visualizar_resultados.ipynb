{
 "cells": [
  {
   "cell_type": "code",
   "execution_count": 9,
   "metadata": {},
   "outputs": [],
   "source": [
    "from backtesting import Backtest, Strategy\n",
    "import backtesting\n",
    "from backtesting.lib import crossover       \n",
    "import os.path       \n",
    "import pandas as pd     \n",
    "backtesting.set_bokeh_output(notebook=False)"
   ]
  },
  {
   "cell_type": "code",
   "execution_count": null,
   "metadata": {},
   "outputs": [],
   "source": []
  },
  {
   "cell_type": "code",
   "execution_count": 10,
   "metadata": {},
   "outputs": [],
   "source": [
    "def stringToDf(string):\n",
    "    df = pd.DataFrame([x.split(';') for x in string.split('\\n')])\n",
    "    df.columns = ['variable']\n",
    "    df['value'] = df['variable'].apply(lambda x: x.split('   ')[-1])\n",
    "    df['variable'] = df['variable'].apply(lambda x: x.split('   ')[0])\n",
    "    return df"
   ]
  },
  {
   "cell_type": "code",
   "execution_count": 11,
   "metadata": {},
   "outputs": [],
   "source": [
    "def iterate_df(df):\n",
    "    maiorValor = {}\n",
    "    for i in range(len(df)):\n",
    "        if maiorValor == {}:\n",
    "            maiorValor = df.iloc[i].to_dict()\n",
    "        if float(stringToDf(df['output'][i])['value'][6]) > float(stringToDf(maiorValor['output'])['value'][6]):\n",
    "            maiorValor = df.iloc[i].to_dict()\n",
    "    return maiorValor\n"
   ]
  },
  {
   "cell_type": "code",
   "execution_count": 12,
   "metadata": {},
   "outputs": [
    {
     "name": "stdout",
     "output_type": "stream",
     "text": [
      "sma1:  7  -  sma2:  6\n",
      "                  variable                    value\n",
      "0                    Start    2017-08-20 20:59...\\r\n",
      "1                      End    2021-10-31 20:59...\\r\n",
      "2                 Duration     1533 days 00:00:00\\r\n",
      "3        Exposure Time [%]              51.363636\\r\n",
      "4         Equity Final [$]      2340771064.880001\\r\n",
      "5          Equity Peak [$]           2439472750.4\\r\n",
      "6               Return [%]            2240.771065\\r\n",
      "7    Buy & Hold Return [%]            1439.122285\\r\n",
      "8        Return (Ann.) [%]           18602.125595\\r\n",
      "9    Volatility (Ann.) [%]           64800.970314\\r\n",
      "10            Sharpe Ratio               0.287066\\r\n",
      "11           Sortino Ratio             221.986518\\r\n",
      "12            Calmar Ratio             313.402726\\r\n",
      "13       Max. Drawdown [%]             -59.355341\\r\n",
      "14       Avg. Drawdown [%]             -14.000977\\r\n",
      "15  Max. Drawdown Duration      553 days 00:00:00\\r\n",
      "16  Avg. Drawdown Duration       85 days 00:00:00\\r\n",
      "17                # Trades                     81\\r\n",
      "18            Win Rate [%]               70.37037\\r\n",
      "19          Best Trade [%]              33.862169\\r\n",
      "20         Worst Trade [%]              -28.90988\\r\n",
      "21          Avg. Trade [%]               3.927116\\r\n",
      "22     Max. Trade Duration       49 days 00:00:00\\r\n",
      "23     Avg. Trade Duration        9 days 00:00:00\\r\n",
      "24           Profit Factor               2.752149\\r\n",
      "25          Expectancy [%]               4.711324\\r\n",
      "26                     SQN               2.048174\\r\n",
      "27               _strategy                   HiLo\\r\n",
      "28           _equity_curve                    ...\\r\n",
      "29                 _trades         Size  Entry...\\r\n",
      "30           dtype: object            dtype: object\n"
     ]
    }
   ],
   "source": [
    "BTCUSDT_1w = pd.read_csv(os.path.join('estrategy results','BTCUSDT_1w_HiLo_Strategy.csv'), sep=';')\n",
    "res = iterate_df(BTCUSDT_1w)\n",
    "print('sma1: ',res['sma1'], \" - \",'sma2: ', res['sma2'])\n",
    "print(stringToDf(res['output']))"
   ]
  }
 ],
 "metadata": {
  "interpreter": {
   "hash": "74ab7c6ffe6706754a8af46cc4d18eebe476c74ce21a19282f620e1b1e9919fe"
  },
  "kernelspec": {
   "display_name": "Python 3.8.8 64-bit ('base': conda)",
   "name": "python3"
  },
  "language_info": {
   "codemirror_mode": {
    "name": "ipython",
    "version": 3
   },
   "file_extension": ".py",
   "mimetype": "text/x-python",
   "name": "python",
   "nbconvert_exporter": "python",
   "pygments_lexer": "ipython3",
   "version": "3.8.8"
  },
  "orig_nbformat": 4
 },
 "nbformat": 4,
 "nbformat_minor": 2
}
