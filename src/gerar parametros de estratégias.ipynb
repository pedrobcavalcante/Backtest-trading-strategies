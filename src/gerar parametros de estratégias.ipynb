{
  "cells": [
    {
      "cell_type": "code",
      "execution_count": null,
      "metadata": {
        "colab": {
          "base_uri": "https://localhost:8080/"
        },
        "id": "JyEwn_wHZqNQ",
        "outputId": "cf50d3dd-ca3f-432f-c1fa-6eb8b7464eb9"
      },
      "outputs": [],
      "source": [
        "import datetime as dt\n",
        "from tinydb import TinyDB, Query\n",
        "from backtesting import Backtest\n",
        "import backtesting\n",
        "import os\n",
        "import sys\n",
        "import json\n",
        "dir2 = os.path.abspath(\"\")\n",
        "dir1 = os.path.dirname(dir2)\n",
        "if not dir1 in sys.path:\n",
        "    sys.path.append(dir1)\n",
        "\n",
        "\n",
        "backtesting.set_bokeh_output(notebook=False)\n"
      ]
    },
    {
      "cell_type": "code",
      "execution_count": null,
      "metadata": {},
      "outputs": [],
      "source": [
        "from strategys.SmaCross import SmaCrossStrategy\n",
        "from strategys.HiLo import HiLoStrategy\n",
        "from services.generateWeightedAverageTrade import generateWeightedAverageTrade\n",
        "from services.condicao import funcaoDeCondicao\n",
        "from services.crypto_get_data import getData as gd\n"
      ]
    },
    {
      "cell_type": "code",
      "execution_count": null,
      "metadata": {},
      "outputs": [],
      "source": [
        "def gerarListaDeParametros(listaDeListas):\n",
        "    listaDeParametros = []\n",
        "\n",
        "    def executarFuncaoRecursiva(listaDeListas, newlist=[], modificadorInicial=0):\n",
        "        if not newlist:\n",
        "            newlist.extend(listaDeListas)\n",
        "        tamanhoLista = len(listaDeListas)\n",
        "        for i in listaDeListas[modificadorInicial]:\n",
        "            if modificadorInicial < tamanhoLista - 1:\n",
        "                newlist[modificadorInicial] = i\n",
        "                executarFuncaoRecursiva(\n",
        "                    listaDeListas, newlist, modificadorInicial + 1)\n",
        "            else:\n",
        "                newlist[modificadorInicial] = i\n",
        "                listaDeParametros.append(newlist[:])\n",
        "\n",
        "    executarFuncaoRecursiva(listaDeListas)\n",
        "    return listaDeParametros\n"
      ]
    },
    {
      "cell_type": "code",
      "execution_count": null,
      "metadata": {},
      "outputs": [],
      "source": [
        "def gerarListadeBackTest(listaDeParametros, Strategy, dataframe):\n",
        "    listaDeBackTest = []\n",
        "    for parametros in listaDeParametros:\n",
        "        try:\n",
        "            Strategy.setInitialParams(Strategy, parametros)\n",
        "            bt = Backtest(\n",
        "                dataframe, Strategy, cash=100000000, exclusive_orders=False, commission=0.00\n",
        "            )\n",
        "            output = bt.run()\n",
        "            listaDeBackTest.append(\n",
        "                {\"parametros\": parametros, \"results\": output})\n",
        "        except Exception as e:\n",
        "            print(\"erro na geração de backetest para os parametros: \", parametros)\n",
        "            print(e)\n",
        "    return listaDeBackTest\n"
      ]
    },
    {
      "cell_type": "code",
      "execution_count": null,
      "metadata": {},
      "outputs": [],
      "source": [
        "def pegarOsMelhoresResutadosDaListaDeBackTest(listaDeBackTest):\n",
        "    def adicionarAListaDeResultado(lista, resultado):\n",
        "        if resultado not in lista and resultado != None:\n",
        "            lista.append(resultado)\n",
        "        return lista\n",
        "\n",
        "    maxReturn = None\n",
        "    maxSharpeRatio = None\n",
        "    maxSortinoRatio = None\n",
        "    maxCalmarRatio = None\n",
        "    WinRate = None\n",
        "    maxProfitFactor = None\n",
        "    maxExpectancy = None\n",
        "    maxSQN = None\n",
        "    finalList = []\n",
        "    for backTest in listaDeBackTest:\n",
        "        results = backTest[\"results\"]\n",
        "        if funcaoDeCondicao(results):\n",
        "            if (\n",
        "                maxReturn == None\n",
        "                or results[\"Return [%]\"] > maxReturn[\"results\"][\"Return [%]\"]\n",
        "            ):\n",
        "                maxReturn = backTest\n",
        "            if (\n",
        "                maxSharpeRatio == None\n",
        "                or results[\"Sharpe Ratio\"] > maxSharpeRatio[\"results\"][\"Sharpe Ratio\"]\n",
        "            ):\n",
        "                maxSharpeRatio = backTest\n",
        "            if (\n",
        "                maxSortinoRatio == None\n",
        "                or results[\"Sortino Ratio\"]\n",
        "                > maxSortinoRatio[\"results\"][\"Sortino Ratio\"]\n",
        "            ):\n",
        "                maxSortinoRatio = backTest\n",
        "            if (\n",
        "                maxCalmarRatio == None\n",
        "                or results[\"Calmar Ratio\"] > maxCalmarRatio[\"results\"][\"Calmar Ratio\"]\n",
        "            ):\n",
        "                maxCalmarRatio = backTest\n",
        "            if (\n",
        "                WinRate == None\n",
        "                or results[\"Win Rate [%]\"] > WinRate[\"results\"][\"Win Rate [%]\"]\n",
        "            ):\n",
        "                WinRate = backTest\n",
        "            if (\n",
        "                maxProfitFactor == None\n",
        "                or results[\"Profit Factor\"]\n",
        "                > maxProfitFactor[\"results\"][\"Profit Factor\"]\n",
        "            ):\n",
        "                maxProfitFactor = backTest\n",
        "            if (\n",
        "                maxExpectancy == None\n",
        "                or results[\"Expectancy [%]\"]\n",
        "                > maxExpectancy[\"results\"][\"Expectancy [%]\"]\n",
        "            ):\n",
        "                maxExpectancy = backTest\n",
        "            if maxSQN == None or results[\"SQN\"] > maxSQN[\"results\"][\"SQN\"]:\n",
        "                maxSQN = backTest\n",
        "    finalList = adicionarAListaDeResultado(finalList, maxReturn)\n",
        "    finalList = adicionarAListaDeResultado(finalList, maxSharpeRatio)\n",
        "    finalList = adicionarAListaDeResultado(finalList, maxSortinoRatio)\n",
        "    finalList = adicionarAListaDeResultado(finalList, maxCalmarRatio)\n",
        "    finalList = adicionarAListaDeResultado(finalList, WinRate)\n",
        "    finalList = adicionarAListaDeResultado(finalList, maxProfitFactor)\n",
        "    finalList = adicionarAListaDeResultado(finalList, maxExpectancy)\n",
        "    finalList = adicionarAListaDeResultado(finalList, maxSQN)\n",
        "    if len(finalList) == 0:\n",
        "        print(\"Nenhum resultado encontrado\")\n",
        "    else:\n",
        "        print(\"Lista de melhores resultados final gerada. Total: \", len(finalList))\n",
        "    return finalList\n"
      ]
    },
    {
      "cell_type": "code",
      "execution_count": null,
      "metadata": {},
      "outputs": [],
      "source": [
        "def gerarDicionario(ativo, output, strategyName, strategyTimeFrame, params):\n",
        "    results = json.loads(output[\"results\"].to_json())\n",
        "    results.pop(\"Equity Final [$]\")\n",
        "    results.pop(\"Equity Peak [$]\")\n",
        "    results.pop(\"Return (Ann.) [%]\")\n",
        "    results.pop(\"_strategy\")\n",
        "    results.pop(\"_equity_curve\")\n",
        "    results[\"Weighted Average Trade\"] = generateWeightedAverageTrade(results)\n",
        "    dicionario = {\n",
        "        \"ticket\": ativo,\n",
        "        \"strategy\": {\n",
        "            \"name\": strategyName,\n",
        "            \"timeFrame\": strategyTimeFrame,\n",
        "            \"params\": params,\n",
        "        },\n",
        "        \"results\": results,\n",
        "        \"updateDate\": dt.datetime.now().strftime(\"%Y-%m-%d %H:%M:%S\"),\n",
        "    }\n",
        "    return dicionario\n"
      ]
    },
    {
      "cell_type": "code",
      "execution_count": null,
      "metadata": {},
      "outputs": [],
      "source": [
        "def gerarListaReduzida(tamanho, menorValor=1):\n",
        "    lista = []\n",
        "    if tamanho <= 11:\n",
        "        for i in range(tamanho):\n",
        "            lista.append(i)\n",
        "    else:\n",
        "        lista = [0, 1, 2, 3, 4, 5, 6, 7, 8, 9, 10]\n",
        "        while lista[-1] < tamanho:\n",
        "            lista.append(int(lista[-1] * 1.1))\n",
        "    lista = list(filter(lambda a: a >= menorValor, lista))\n",
        "    return lista\n",
        "\n"
      ]
    },
    {
      "cell_type": "code",
      "execution_count": null,
      "metadata": {},
      "outputs": [],
      "source": [
        "def insertIntTableOfUpdates(updateTable, ticket, strategyName, strategyTimeFrame):\n",
        "    lambdaContains = (\n",
        "        lambda x: x[\"ticket\"] == ticket[\"quota\"]\n",
        "        and x[\"strategy\"] == strategyName\n",
        "        and x[\"timeFrame\"] == strategyTimeFrame\n",
        "    )\n",
        "    if updateTable.contains(lambdaContains):\n",
        "        updateTable.update(\n",
        "            {\"updateDate\": dt.datetime.now().strftime(\"%Y-%m-%d %H:%M:%S\")},\n",
        "            lambdaContains,\n",
        "        )\n",
        "    else:\n",
        "        updateTable.insert(\n",
        "            {\n",
        "                \"ticket\": ticket[\"quota\"],\n",
        "                \"updateDate\": dt.datetime.now().strftime(\"%Y-%m-%d %H:%M:%S\"),\n",
        "                \"strategy\": strategyName,\n",
        "                \"timeFrame\": strategyTimeFrame,\n",
        "            }\n",
        "        )\n"
      ]
    },
    {
      "cell_type": "code",
      "execution_count": null,
      "metadata": {},
      "outputs": [],
      "source": [
        "def gerarUnicaEstrategiaESalvar(\n",
        "    updateTable,\n",
        "    ticket,\n",
        "    strategyName,\n",
        "    strategy,\n",
        "    strategysedb,\n",
        "    timeFrame,\n",
        "    listaDeParametros,\n",
        "    dataframe,\n",
        "    removeStrategysFirst=False\n",
        "):\n",
        "    if removeStrategysFirst:\n",
        "        removefunc = (\n",
        "            lambda x: x[\"ticket\"] == ticket[\"quota\"]\n",
        "            and x[\"strategy\"][\"name\"] == strategyName\n",
        "            and x[\"strategy\"][\"timeFrame\"] == timeFrame\n",
        "        )\n",
        "        strategysedb.table(\"estrategys\").remove(removefunc)\n",
        "    listaDeBackTest = gerarListadeBackTest(\n",
        "        listaDeParametros, strategy, dataframe)\n",
        "    print(\"estratégia: \", strategyName, \"-\", timeFrame, end='-> ')\n",
        "    melhoresBackTest = pegarOsMelhoresResutadosDaListaDeBackTest(\n",
        "        listaDeBackTest)\n",
        "    finalList = []\n",
        "    if len(melhoresBackTest) > 0:\n",
        "        for backTest in melhoresBackTest:\n",
        "            resultado = gerarDicionario(\n",
        "                ticket[\"quota\"],\n",
        "                backTest,\n",
        "                strategyName,\n",
        "                timeFrame,\n",
        "                backTest[\"parametros\"],\n",
        "            )\n",
        "            finalList.append(resultado)\n",
        "        if finalList != [None]:\n",
        "            strategysedb.table(\"estrategys\").insert_multiple(finalList)\n",
        "        else:\n",
        "            strategysedb.table(\"estrategys\").insert(\n",
        "                {\n",
        "                    \"ticket\": ticket[\"quota\"],\n",
        "                    \"strategy\": {\n",
        "                        \"name\": strategyName,\n",
        "                        \"timeFrame\": timeFrame,\n",
        "                        \"params\": None,\n",
        "                    },\n",
        "                    \"results\": None,\n",
        "                    \"updateDate\": dt.datetime.now().strftime(\"%Y-%m-%d %H:%M:%S\"),\n",
        "                }\n",
        "            )\n",
        "    insertIntTableOfUpdates(updateTable, ticket, strategyName, timeFrame)\n"
      ]
    },
    {
      "cell_type": "code",
      "execution_count": null,
      "metadata": {},
      "outputs": [],
      "source": [
        "def GerarEstrategiasPorTimeFrame(\n",
        "    removeStrategysFirst,\n",
        "    timeFrame,\n",
        "    updateTable,\n",
        "    ticket,\n",
        "    strategysedb,\n",
        "    listaDeParametros,\n",
        "    dataframe,\n",
        "):\n",
        "    strategys = [\n",
        "        {\"strategyName\": \"HiLoStrategy\", \"strategy\": HiLoStrategy},\n",
        "        {\"strategyName\": \"SmaCrossStrategy\", \"strategy\": SmaCrossStrategy},\n",
        "    ]\n",
        "    for strategy in strategys:\n",
        "        gerarUnicaEstrategiaESalvar(\n",
        "            updateTable,\n",
        "            ticket,\n",
        "            strategy[\"strategyName\"],\n",
        "            strategy[\"strategy\"],\n",
        "            strategysedb,\n",
        "            timeFrame,\n",
        "            listaDeParametros,\n",
        "            dataframe,\n",
        "            removeStrategysFirst)\n"
      ]
    },
    {
      "cell_type": "code",
      "execution_count": null,
      "metadata": {},
      "outputs": [],
      "source": [
        "def ordenarListaDeEstrategias(lista):\n",
        "    def lambdaFunction(x):\n",
        "        divisor = 1\n",
        "        if x[\"timeFrame\"] == \"1wk\":\n",
        "            divisor = 7\n",
        "        updateDate = dt.datetime.strptime(x[\"updateDate\"], \"%Y-%m-%d %H:%M:%S\")\n",
        "\n",
        "        return (dt.datetime.now() - updateDate) / divisor\n",
        "\n",
        "    lista.sort(key=lambda x: lambdaFunction(x), reverse=True)\n",
        "    return lista\n"
      ]
    },
    {
      "cell_type": "code",
      "execution_count": null,
      "metadata": {},
      "outputs": [],
      "source": [
        "def getStrategysFunction(strategyName):\n",
        "    if strategyName == \"HiLoStrategy\":\n",
        "        return HiLoStrategy\n",
        "    elif strategyName == \"SmaCrossStrategy\":\n",
        "        return SmaCrossStrategy\n",
        "    else:\n",
        "        return None\n"
      ]
    },
    {
      "cell_type": "code",
      "execution_count": null,
      "metadata": {},
      "outputs": [],
      "source": [
        "def condition(mode, updateTable, ticket):\n",
        "    if mode == \"OnlyUpdate\":\n",
        "        return updateTable.contains(Query().ticket == ticket[\"quota\"])\n",
        "    elif mode == \"OnlyInsertNew\":\n",
        "        return not updateTable.contains(Query().ticket == ticket[\"quota\"])\n",
        "    elif mode == \"OverwriteAll\":\n",
        "        return True\n",
        "    else:\n",
        "        print(\"Modo de operacao invalido\")\n",
        "        return \"break\"\n",
        "\n",
        "\n",
        "def gerarTodasEstrategiasESalvar(mode):\n",
        "    binancePairs = TinyDB(os.path.join(\"..\", \"DB\", \"binance.json\"))\n",
        "    binanceTickets = binancePairs.table(\"pares\").all()\n",
        "    strategysedb = TinyDB(os.path.join(\"..\", \"DB\", \"estrategys.json\"))\n",
        "    updateTable = strategysedb.table(\"update\")\n",
        "    listaDeParametros = gerarListaDeParametros(\n",
        "        [gerarListaReduzida(100), gerarListaReduzida(100)])\n",
        "    listaDeParametrosHiLo = gerarListaDeParametros(\n",
        "        [gerarListaReduzida(80, 2), gerarListaReduzida(80, 2)]\n",
        "    )\n",
        "    if mode == \"OnlyUpdate\":\n",
        "        listaDeUpdate = ordenarListaDeEstrategias(updateTable.all())\n",
        "        for update in listaDeUpdate:\n",
        "            print(\"Atualizando: \", update[\"ticket\"], \"-\", update[\"strategy\"])\n",
        "            try:\n",
        "                ticket = {\"quota\": update[\"ticket\"]}\n",
        "                dataframe = gd(ticket[\"quota\"])\n",
        "                gerarUnicaEstrategiaESalvar(\n",
        "                    updateTable,\n",
        "                    ticket,\n",
        "                    update[\"strategy\"],\n",
        "                    getStrategysFunction(update[\"strategy\"]),\n",
        "                    strategysedb,\n",
        "                    update['timeFrame'],\n",
        "                    listaDeParametrosHiLo if update['strategy'] == \"HiLoStrategy\" else listaDeParametros,\n",
        "                    dataframe,\n",
        "                    True)\n",
        "            except Exception as e:\n",
        "                print(e)\n",
        "    else:\n",
        "        for ticket in binanceTickets:\n",
        "            try:\n",
        "                if condition(mode, updateTable, ticket):\n",
        "                    print(ticket[\"quota\"])\n",
        "                    dataframe = gd(ticket[\"quota\"])\n",
        "                    GerarEstrategiasPorTimeFrame(\n",
        "                        mode != \"OnlyInsertNew\",\n",
        "                        \"1wk\",\n",
        "                        updateTable,\n",
        "                        ticket,\n",
        "                        strategysedb,\n",
        "                        listaDeParametros,\n",
        "                        dataframe,\n",
        "                    )\n",
        "                elif condition(mode, updateTable, ticket) == \"break\":\n",
        "                    break\n",
        "            except Exception as e:\n",
        "                print(e)\n"
      ]
    },
    {
      "cell_type": "code",
      "execution_count": 20,
      "metadata": {},
      "outputs": [
        {
          "name": "stdout",
          "output_type": "stream",
          "text": [
            "estratégia:  SmaCrossStrategy - 1wk-> Nenhum resultado encontrado\n",
            "Atualizando:  DGB - HiLoStrategy\n"
          ]
        },
        {
          "name": "stderr",
          "output_type": "stream",
          "text": [
            "d:\\Projetos\\Backtest-trading-strategies - main\\src\\services\\crypto_get_data.py:93: FutureWarning: The frame.append method is deprecated and will be removed from pandas in a future version. Use pandas.concat instead.\n",
            "  data = data.append(dataUpdate)\n"
          ]
        },
        {
          "name": "stdout",
          "output_type": "stream",
          "text": [
            "estratégia:  HiLoStrategy - 1wk-> Lista de melhores resultados final gerada. Total:  6\n",
            "Atualizando:  DGB - SmaCrossStrategy\n"
          ]
        },
        {
          "name": "stderr",
          "output_type": "stream",
          "text": [
            "d:\\Projetos\\Backtest-trading-strategies - main\\src\\services\\crypto_get_data.py:93: FutureWarning: The frame.append method is deprecated and will be removed from pandas in a future version. Use pandas.concat instead.\n",
            "  data = data.append(dataUpdate)\n"
          ]
        },
        {
          "name": "stdout",
          "output_type": "stream",
          "text": [
            "estratégia:  SmaCrossStrategy - 1wk-> Nenhum resultado encontrado\n",
            "Atualizando:  GBP - HiLoStrategy\n"
          ]
        },
        {
          "name": "stderr",
          "output_type": "stream",
          "text": [
            "d:\\Projetos\\Backtest-trading-strategies - main\\src\\services\\crypto_get_data.py:93: FutureWarning: The frame.append method is deprecated and will be removed from pandas in a future version. Use pandas.concat instead.\n",
            "  data = data.append(dataUpdate)\n"
          ]
        },
        {
          "name": "stdout",
          "output_type": "stream",
          "text": [
            "estratégia:  HiLoStrategy - 1wk-> Nenhum resultado encontrado\n",
            "Atualizando:  GBP - SmaCrossStrategy\n"
          ]
        },
        {
          "name": "stderr",
          "output_type": "stream",
          "text": [
            "d:\\Projetos\\Backtest-trading-strategies - main\\src\\services\\crypto_get_data.py:93: FutureWarning: The frame.append method is deprecated and will be removed from pandas in a future version. Use pandas.concat instead.\n",
            "  data = data.append(dataUpdate)\n"
          ]
        },
        {
          "name": "stdout",
          "output_type": "stream",
          "text": [
            "estratégia:  SmaCrossStrategy - 1wk-> Nenhum resultado encontrado\n",
            "Atualizando:  SXP - HiLoStrategy\n"
          ]
        },
        {
          "name": "stderr",
          "output_type": "stream",
          "text": [
            "d:\\Projetos\\Backtest-trading-strategies - main\\src\\services\\crypto_get_data.py:93: FutureWarning: The frame.append method is deprecated and will be removed from pandas in a future version. Use pandas.concat instead.\n",
            "  data = data.append(dataUpdate)\n"
          ]
        },
        {
          "name": "stdout",
          "output_type": "stream",
          "text": [
            "estratégia:  HiLoStrategy - 1wk-> Nenhum resultado encontrado\n",
            "Atualizando:  SXP - SmaCrossStrategy\n"
          ]
        },
        {
          "name": "stderr",
          "output_type": "stream",
          "text": [
            "d:\\Projetos\\Backtest-trading-strategies - main\\src\\services\\crypto_get_data.py:93: FutureWarning: The frame.append method is deprecated and will be removed from pandas in a future version. Use pandas.concat instead.\n",
            "  data = data.append(dataUpdate)\n"
          ]
        },
        {
          "name": "stdout",
          "output_type": "stream",
          "text": [
            "estratégia:  SmaCrossStrategy - 1wk-> Nenhum resultado encontrado\n",
            "Atualizando:  MKR - HiLoStrategy\n"
          ]
        },
        {
          "name": "stderr",
          "output_type": "stream",
          "text": [
            "d:\\Projetos\\Backtest-trading-strategies - main\\src\\services\\crypto_get_data.py:93: FutureWarning: The frame.append method is deprecated and will be removed from pandas in a future version. Use pandas.concat instead.\n",
            "  data = data.append(dataUpdate)\n"
          ]
        },
        {
          "name": "stdout",
          "output_type": "stream",
          "text": [
            "estratégia:  HiLoStrategy - 1wk-> Lista de melhores resultados final gerada. Total:  1\n",
            "Atualizando:  MKR - SmaCrossStrategy\n"
          ]
        },
        {
          "name": "stderr",
          "output_type": "stream",
          "text": [
            "d:\\Projetos\\Backtest-trading-strategies - main\\src\\services\\crypto_get_data.py:93: FutureWarning: The frame.append method is deprecated and will be removed from pandas in a future version. Use pandas.concat instead.\n",
            "  data = data.append(dataUpdate)\n"
          ]
        },
        {
          "name": "stdout",
          "output_type": "stream",
          "text": [
            "estratégia:  SmaCrossStrategy - 1wk-> Nenhum resultado encontrado\n",
            "Atualizando:  DCR - HiLoStrategy\n"
          ]
        },
        {
          "name": "stderr",
          "output_type": "stream",
          "text": [
            "d:\\Projetos\\Backtest-trading-strategies - main\\src\\services\\crypto_get_data.py:93: FutureWarning: The frame.append method is deprecated and will be removed from pandas in a future version. Use pandas.concat instead.\n",
            "  data = data.append(dataUpdate)\n"
          ]
        },
        {
          "name": "stdout",
          "output_type": "stream",
          "text": [
            "estratégia:  HiLoStrategy - 1wk-> Nenhum resultado encontrado\n",
            "Atualizando:  DCR - SmaCrossStrategy\n"
          ]
        },
        {
          "name": "stderr",
          "output_type": "stream",
          "text": [
            "d:\\Projetos\\Backtest-trading-strategies - main\\src\\services\\crypto_get_data.py:93: FutureWarning: The frame.append method is deprecated and will be removed from pandas in a future version. Use pandas.concat instead.\n",
            "  data = data.append(dataUpdate)\n"
          ]
        },
        {
          "name": "stdout",
          "output_type": "stream",
          "text": [
            "estratégia:  SmaCrossStrategy - 1wk-> Nenhum resultado encontrado\n",
            "Atualizando:  STORJ - HiLoStrategy\n"
          ]
        },
        {
          "name": "stderr",
          "output_type": "stream",
          "text": [
            "d:\\Projetos\\Backtest-trading-strategies - main\\src\\services\\crypto_get_data.py:93: FutureWarning: The frame.append method is deprecated and will be removed from pandas in a future version. Use pandas.concat instead.\n",
            "  data = data.append(dataUpdate)\n"
          ]
        },
        {
          "name": "stdout",
          "output_type": "stream",
          "text": [
            "estratégia:  HiLoStrategy - 1wk-> Lista de melhores resultados final gerada. Total:  1\n",
            "Atualizando:  STORJ - SmaCrossStrategy\n"
          ]
        },
        {
          "name": "stderr",
          "output_type": "stream",
          "text": [
            "d:\\Projetos\\Backtest-trading-strategies - main\\src\\services\\crypto_get_data.py:93: FutureWarning: The frame.append method is deprecated and will be removed from pandas in a future version. Use pandas.concat instead.\n",
            "  data = data.append(dataUpdate)\n"
          ]
        },
        {
          "ename": "KeyboardInterrupt",
          "evalue": "",
          "output_type": "error",
          "traceback": [
            "\u001b[1;31m---------------------------------------------------------------------------\u001b[0m",
            "\u001b[1;31mKeyboardInterrupt\u001b[0m                         Traceback (most recent call last)",
            "\u001b[1;32md:\\Projetos\\Backtest-trading-strategies - main\\src\\gerar parametros de estratégias.ipynb Cell 14'\u001b[0m in \u001b[0;36m<cell line: 1>\u001b[1;34m()\u001b[0m\n\u001b[1;32m----> <a href='vscode-notebook-cell:/d%3A/Projetos/Backtest-trading-strategies%20-%20main/src/gerar%20parametros%20de%20estrat%C3%A9gias.ipynb#ch0000013?line=0'>1</a>\u001b[0m gerarTodasEstrategiasESalvar(\u001b[39m\"\u001b[39;49m\u001b[39mOnlyUpdate\u001b[39;49m\u001b[39m\"\u001b[39;49m)\n\u001b[0;32m      <a href='vscode-notebook-cell:/d%3A/Projetos/Backtest-trading-strategies%20-%20main/src/gerar%20parametros%20de%20estrat%C3%A9gias.ipynb#ch0000013?line=1'>2</a>\u001b[0m gerarTodasEstrategiasESalvar(\u001b[39m\"\u001b[39m\u001b[39mOnlyInsertNew\u001b[39m\u001b[39m\"\u001b[39m)\n",
            "\u001b[1;32md:\\Projetos\\Backtest-trading-strategies - main\\src\\gerar parametros de estratégias.ipynb Cell 14'\u001b[0m in \u001b[0;36mgerarTodasEstrategiasESalvar\u001b[1;34m(mode)\u001b[0m\n\u001b[0;32m     <a href='vscode-notebook-cell:/d%3A/Projetos/Backtest-trading-strategies%20-%20main/src/gerar%20parametros%20de%20estrat%C3%A9gias.ipynb#ch0000013?line=27'>28</a>\u001b[0m     ticket \u001b[39m=\u001b[39m {\u001b[39m\"\u001b[39m\u001b[39mquota\u001b[39m\u001b[39m\"\u001b[39m: update[\u001b[39m\"\u001b[39m\u001b[39mticket\u001b[39m\u001b[39m\"\u001b[39m]}\n\u001b[0;32m     <a href='vscode-notebook-cell:/d%3A/Projetos/Backtest-trading-strategies%20-%20main/src/gerar%20parametros%20de%20estrat%C3%A9gias.ipynb#ch0000013?line=28'>29</a>\u001b[0m     dataframe \u001b[39m=\u001b[39m gd(ticket[\u001b[39m\"\u001b[39m\u001b[39mquota\u001b[39m\u001b[39m\"\u001b[39m])\n\u001b[1;32m---> <a href='vscode-notebook-cell:/d%3A/Projetos/Backtest-trading-strategies%20-%20main/src/gerar%20parametros%20de%20estrat%C3%A9gias.ipynb#ch0000013?line=29'>30</a>\u001b[0m     gerarUnicaEstrategiaESalvar(\n\u001b[0;32m     <a href='vscode-notebook-cell:/d%3A/Projetos/Backtest-trading-strategies%20-%20main/src/gerar%20parametros%20de%20estrat%C3%A9gias.ipynb#ch0000013?line=30'>31</a>\u001b[0m         updateTable,\n\u001b[0;32m     <a href='vscode-notebook-cell:/d%3A/Projetos/Backtest-trading-strategies%20-%20main/src/gerar%20parametros%20de%20estrat%C3%A9gias.ipynb#ch0000013?line=31'>32</a>\u001b[0m         ticket,\n\u001b[0;32m     <a href='vscode-notebook-cell:/d%3A/Projetos/Backtest-trading-strategies%20-%20main/src/gerar%20parametros%20de%20estrat%C3%A9gias.ipynb#ch0000013?line=32'>33</a>\u001b[0m         update[\u001b[39m\"\u001b[39;49m\u001b[39mstrategy\u001b[39;49m\u001b[39m\"\u001b[39;49m],\n\u001b[0;32m     <a href='vscode-notebook-cell:/d%3A/Projetos/Backtest-trading-strategies%20-%20main/src/gerar%20parametros%20de%20estrat%C3%A9gias.ipynb#ch0000013?line=33'>34</a>\u001b[0m         getStrategysFunction(update[\u001b[39m\"\u001b[39;49m\u001b[39mstrategy\u001b[39;49m\u001b[39m\"\u001b[39;49m]),\n\u001b[0;32m     <a href='vscode-notebook-cell:/d%3A/Projetos/Backtest-trading-strategies%20-%20main/src/gerar%20parametros%20de%20estrat%C3%A9gias.ipynb#ch0000013?line=34'>35</a>\u001b[0m         strategysedb,\n\u001b[0;32m     <a href='vscode-notebook-cell:/d%3A/Projetos/Backtest-trading-strategies%20-%20main/src/gerar%20parametros%20de%20estrat%C3%A9gias.ipynb#ch0000013?line=35'>36</a>\u001b[0m         update[\u001b[39m'\u001b[39;49m\u001b[39mtimeFrame\u001b[39;49m\u001b[39m'\u001b[39;49m],\n\u001b[0;32m     <a href='vscode-notebook-cell:/d%3A/Projetos/Backtest-trading-strategies%20-%20main/src/gerar%20parametros%20de%20estrat%C3%A9gias.ipynb#ch0000013?line=36'>37</a>\u001b[0m         listaDeParametrosHiLo \u001b[39mif\u001b[39;49;00m update[\u001b[39m'\u001b[39;49m\u001b[39mstrategy\u001b[39;49m\u001b[39m'\u001b[39;49m] \u001b[39m==\u001b[39;49m \u001b[39m\"\u001b[39;49m\u001b[39mHiLoStrategy\u001b[39;49m\u001b[39m\"\u001b[39;49m \u001b[39melse\u001b[39;49;00m listaDeParametros,\n\u001b[0;32m     <a href='vscode-notebook-cell:/d%3A/Projetos/Backtest-trading-strategies%20-%20main/src/gerar%20parametros%20de%20estrat%C3%A9gias.ipynb#ch0000013?line=37'>38</a>\u001b[0m         dataframe,\n\u001b[0;32m     <a href='vscode-notebook-cell:/d%3A/Projetos/Backtest-trading-strategies%20-%20main/src/gerar%20parametros%20de%20estrat%C3%A9gias.ipynb#ch0000013?line=38'>39</a>\u001b[0m         \u001b[39mTrue\u001b[39;49;00m)\n\u001b[0;32m     <a href='vscode-notebook-cell:/d%3A/Projetos/Backtest-trading-strategies%20-%20main/src/gerar%20parametros%20de%20estrat%C3%A9gias.ipynb#ch0000013?line=39'>40</a>\u001b[0m \u001b[39mexcept\u001b[39;00m \u001b[39mException\u001b[39;00m \u001b[39mas\u001b[39;00m e:\n\u001b[0;32m     <a href='vscode-notebook-cell:/d%3A/Projetos/Backtest-trading-strategies%20-%20main/src/gerar%20parametros%20de%20estrat%C3%A9gias.ipynb#ch0000013?line=40'>41</a>\u001b[0m     \u001b[39mprint\u001b[39m(e)\n",
            "\u001b[1;32md:\\Projetos\\Backtest-trading-strategies - main\\src\\gerar parametros de estratégias.ipynb Cell 14'\u001b[0m in \u001b[0;36mgerarUnicaEstrategiaESalvar\u001b[1;34m(updateTable, ticket, strategyName, strategy, strategysedb, timeFrame, listaDeParametros, dataframe, removeStrategysFirst)\u001b[0m\n\u001b[0;32m     <a href='vscode-notebook-cell:/d%3A/Projetos/Backtest-trading-strategies%20-%20main/src/gerar%20parametros%20de%20estrat%C3%A9gias.ipynb#ch0000013?line=12'>13</a>\u001b[0m     removefunc \u001b[39m=\u001b[39m (\n\u001b[0;32m     <a href='vscode-notebook-cell:/d%3A/Projetos/Backtest-trading-strategies%20-%20main/src/gerar%20parametros%20de%20estrat%C3%A9gias.ipynb#ch0000013?line=13'>14</a>\u001b[0m         \u001b[39mlambda\u001b[39;00m x: x[\u001b[39m\"\u001b[39m\u001b[39mticket\u001b[39m\u001b[39m\"\u001b[39m] \u001b[39m==\u001b[39m ticket[\u001b[39m\"\u001b[39m\u001b[39mquota\u001b[39m\u001b[39m\"\u001b[39m]\n\u001b[0;32m     <a href='vscode-notebook-cell:/d%3A/Projetos/Backtest-trading-strategies%20-%20main/src/gerar%20parametros%20de%20estrat%C3%A9gias.ipynb#ch0000013?line=14'>15</a>\u001b[0m         \u001b[39mand\u001b[39;00m x[\u001b[39m\"\u001b[39m\u001b[39mstrategy\u001b[39m\u001b[39m\"\u001b[39m][\u001b[39m\"\u001b[39m\u001b[39mname\u001b[39m\u001b[39m\"\u001b[39m] \u001b[39m==\u001b[39m strategyName\n\u001b[0;32m     <a href='vscode-notebook-cell:/d%3A/Projetos/Backtest-trading-strategies%20-%20main/src/gerar%20parametros%20de%20estrat%C3%A9gias.ipynb#ch0000013?line=15'>16</a>\u001b[0m         \u001b[39mand\u001b[39;00m x[\u001b[39m\"\u001b[39m\u001b[39mstrategy\u001b[39m\u001b[39m\"\u001b[39m][\u001b[39m\"\u001b[39m\u001b[39mtimeFrame\u001b[39m\u001b[39m\"\u001b[39m] \u001b[39m==\u001b[39m timeFrame\n\u001b[0;32m     <a href='vscode-notebook-cell:/d%3A/Projetos/Backtest-trading-strategies%20-%20main/src/gerar%20parametros%20de%20estrat%C3%A9gias.ipynb#ch0000013?line=16'>17</a>\u001b[0m     )\n\u001b[0;32m     <a href='vscode-notebook-cell:/d%3A/Projetos/Backtest-trading-strategies%20-%20main/src/gerar%20parametros%20de%20estrat%C3%A9gias.ipynb#ch0000013?line=17'>18</a>\u001b[0m     strategysedb\u001b[39m.\u001b[39mtable(\u001b[39m\"\u001b[39m\u001b[39mestrategys\u001b[39m\u001b[39m\"\u001b[39m)\u001b[39m.\u001b[39mremove(removefunc)\n\u001b[1;32m---> <a href='vscode-notebook-cell:/d%3A/Projetos/Backtest-trading-strategies%20-%20main/src/gerar%20parametros%20de%20estrat%C3%A9gias.ipynb#ch0000013?line=18'>19</a>\u001b[0m listaDeBackTest \u001b[39m=\u001b[39m gerarListadeBackTest(\n\u001b[0;32m     <a href='vscode-notebook-cell:/d%3A/Projetos/Backtest-trading-strategies%20-%20main/src/gerar%20parametros%20de%20estrat%C3%A9gias.ipynb#ch0000013?line=19'>20</a>\u001b[0m     listaDeParametros, strategy, dataframe)\n\u001b[0;32m     <a href='vscode-notebook-cell:/d%3A/Projetos/Backtest-trading-strategies%20-%20main/src/gerar%20parametros%20de%20estrat%C3%A9gias.ipynb#ch0000013?line=20'>21</a>\u001b[0m \u001b[39mprint\u001b[39m(\u001b[39m\"\u001b[39m\u001b[39mestratégia: \u001b[39m\u001b[39m\"\u001b[39m, strategyName, \u001b[39m\"\u001b[39m\u001b[39m-\u001b[39m\u001b[39m\"\u001b[39m, timeFrame, end\u001b[39m=\u001b[39m\u001b[39m'\u001b[39m\u001b[39m-> \u001b[39m\u001b[39m'\u001b[39m)\n\u001b[0;32m     <a href='vscode-notebook-cell:/d%3A/Projetos/Backtest-trading-strategies%20-%20main/src/gerar%20parametros%20de%20estrat%C3%A9gias.ipynb#ch0000013?line=21'>22</a>\u001b[0m melhoresBackTest \u001b[39m=\u001b[39m pegarOsMelhoresResutadosDaListaDeBackTest(\n\u001b[0;32m     <a href='vscode-notebook-cell:/d%3A/Projetos/Backtest-trading-strategies%20-%20main/src/gerar%20parametros%20de%20estrat%C3%A9gias.ipynb#ch0000013?line=22'>23</a>\u001b[0m     listaDeBackTest)\n",
            "\u001b[1;32md:\\Projetos\\Backtest-trading-strategies - main\\src\\gerar parametros de estratégias.ipynb Cell 14'\u001b[0m in \u001b[0;36mgerarListadeBackTest\u001b[1;34m(listaDeParametros, Strategy, dataframe)\u001b[0m\n\u001b[0;32m      <a href='vscode-notebook-cell:/d%3A/Projetos/Backtest-trading-strategies%20-%20main/src/gerar%20parametros%20de%20estrat%C3%A9gias.ipynb#ch0000013?line=4'>5</a>\u001b[0m     Strategy\u001b[39m.\u001b[39msetInitialParams(Strategy, parametros)\n\u001b[0;32m      <a href='vscode-notebook-cell:/d%3A/Projetos/Backtest-trading-strategies%20-%20main/src/gerar%20parametros%20de%20estrat%C3%A9gias.ipynb#ch0000013?line=5'>6</a>\u001b[0m     bt \u001b[39m=\u001b[39m Backtest(\n\u001b[0;32m      <a href='vscode-notebook-cell:/d%3A/Projetos/Backtest-trading-strategies%20-%20main/src/gerar%20parametros%20de%20estrat%C3%A9gias.ipynb#ch0000013?line=6'>7</a>\u001b[0m         dataframe, Strategy, cash\u001b[39m=\u001b[39m\u001b[39m100000000\u001b[39m, exclusive_orders\u001b[39m=\u001b[39m\u001b[39mFalse\u001b[39;00m, commission\u001b[39m=\u001b[39m\u001b[39m0.00\u001b[39m\n\u001b[0;32m      <a href='vscode-notebook-cell:/d%3A/Projetos/Backtest-trading-strategies%20-%20main/src/gerar%20parametros%20de%20estrat%C3%A9gias.ipynb#ch0000013?line=7'>8</a>\u001b[0m     )\n\u001b[1;32m----> <a href='vscode-notebook-cell:/d%3A/Projetos/Backtest-trading-strategies%20-%20main/src/gerar%20parametros%20de%20estrat%C3%A9gias.ipynb#ch0000013?line=8'>9</a>\u001b[0m     output \u001b[39m=\u001b[39m bt\u001b[39m.\u001b[39;49mrun()\n\u001b[0;32m     <a href='vscode-notebook-cell:/d%3A/Projetos/Backtest-trading-strategies%20-%20main/src/gerar%20parametros%20de%20estrat%C3%A9gias.ipynb#ch0000013?line=9'>10</a>\u001b[0m     listaDeBackTest\u001b[39m.\u001b[39mappend(\n\u001b[0;32m     <a href='vscode-notebook-cell:/d%3A/Projetos/Backtest-trading-strategies%20-%20main/src/gerar%20parametros%20de%20estrat%C3%A9gias.ipynb#ch0000013?line=10'>11</a>\u001b[0m         {\u001b[39m\"\u001b[39m\u001b[39mparametros\u001b[39m\u001b[39m\"\u001b[39m: parametros, \u001b[39m\"\u001b[39m\u001b[39mresults\u001b[39m\u001b[39m\"\u001b[39m: output})\n\u001b[0;32m     <a href='vscode-notebook-cell:/d%3A/Projetos/Backtest-trading-strategies%20-%20main/src/gerar%20parametros%20de%20estrat%C3%A9gias.ipynb#ch0000013?line=11'>12</a>\u001b[0m \u001b[39mexcept\u001b[39;00m \u001b[39mException\u001b[39;00m \u001b[39mas\u001b[39;00m e:\n",
            "File \u001b[1;32mc:\\Python310\\lib\\site-packages\\backtesting\\backtesting.py:1186\u001b[0m, in \u001b[0;36mBacktest.run\u001b[1;34m(self, **kwargs)\u001b[0m\n\u001b[0;32m   1183\u001b[0m     data\u001b[39m.\u001b[39m_set_length(\u001b[39mlen\u001b[39m(\u001b[39mself\u001b[39m\u001b[39m.\u001b[39m_data))\n\u001b[0;32m   1185\u001b[0m     equity \u001b[39m=\u001b[39m pd\u001b[39m.\u001b[39mSeries(broker\u001b[39m.\u001b[39m_equity)\u001b[39m.\u001b[39mbfill()\u001b[39m.\u001b[39mfillna(broker\u001b[39m.\u001b[39m_cash)\u001b[39m.\u001b[39mvalues\n\u001b[1;32m-> 1186\u001b[0m     \u001b[39mself\u001b[39m\u001b[39m.\u001b[39m_results \u001b[39m=\u001b[39m compute_stats(\n\u001b[0;32m   1187\u001b[0m         trades\u001b[39m=\u001b[39;49mbroker\u001b[39m.\u001b[39;49mclosed_trades,\n\u001b[0;32m   1188\u001b[0m         equity\u001b[39m=\u001b[39;49mequity,\n\u001b[0;32m   1189\u001b[0m         ohlc_data\u001b[39m=\u001b[39;49m\u001b[39mself\u001b[39;49m\u001b[39m.\u001b[39;49m_data,\n\u001b[0;32m   1190\u001b[0m         risk_free_rate\u001b[39m=\u001b[39;49m\u001b[39m0.0\u001b[39;49m,\n\u001b[0;32m   1191\u001b[0m         strategy_instance\u001b[39m=\u001b[39;49mstrategy,\n\u001b[0;32m   1192\u001b[0m     )\n\u001b[0;32m   1194\u001b[0m \u001b[39mreturn\u001b[39;00m \u001b[39mself\u001b[39m\u001b[39m.\u001b[39m_results\n",
            "File \u001b[1;32mc:\\Python310\\lib\\site-packages\\backtesting\\_stats.py:102\u001b[0m, in \u001b[0;36mcompute_stats\u001b[1;34m(***failed resolving arguments***)\u001b[0m\n\u001b[0;32m    100\u001b[0m annual_trading_days \u001b[39m=\u001b[39m np\u001b[39m.\u001b[39mnan\n\u001b[0;32m    101\u001b[0m \u001b[39mif\u001b[39;00m \u001b[39misinstance\u001b[39m(index, pd\u001b[39m.\u001b[39mDatetimeIndex):\n\u001b[1;32m--> 102\u001b[0m     day_returns \u001b[39m=\u001b[39m equity_df[\u001b[39m'\u001b[39;49m\u001b[39mEquity\u001b[39;49m\u001b[39m'\u001b[39;49m]\u001b[39m.\u001b[39;49mresample(\u001b[39m'\u001b[39;49m\u001b[39mD\u001b[39;49m\u001b[39m'\u001b[39;49m)\u001b[39m.\u001b[39;49mlast()\u001b[39m.\u001b[39mdropna()\u001b[39m.\u001b[39mpct_change()\n\u001b[0;32m    103\u001b[0m     gmean_day_return \u001b[39m=\u001b[39m geometric_mean(day_returns)\n\u001b[0;32m    104\u001b[0m     annual_trading_days \u001b[39m=\u001b[39m \u001b[39mfloat\u001b[39m(\n\u001b[0;32m    105\u001b[0m         \u001b[39m365\u001b[39m \u001b[39mif\u001b[39;00m index\u001b[39m.\u001b[39mdayofweek\u001b[39m.\u001b[39mto_series()\u001b[39m.\u001b[39mbetween(\u001b[39m5\u001b[39m, \u001b[39m6\u001b[39m)\u001b[39m.\u001b[39mmean() \u001b[39m>\u001b[39m \u001b[39m2\u001b[39m\u001b[39m/\u001b[39m\u001b[39m7\u001b[39m \u001b[39m*\u001b[39m \u001b[39m.6\u001b[39m \u001b[39melse\u001b[39;00m\n\u001b[0;32m    106\u001b[0m         \u001b[39m252\u001b[39m)\n",
            "File \u001b[1;32mc:\\Python310\\lib\\site-packages\\pandas\\core\\resample.py:1028\u001b[0m, in \u001b[0;36mf\u001b[1;34m(self, _method, min_count, *args, **kwargs)\u001b[0m\n\u001b[0;32m   1026\u001b[0m \u001b[39mdef\u001b[39;00m \u001b[39mf\u001b[39m(\u001b[39mself\u001b[39m, _method\u001b[39m=\u001b[39mmethod, min_count\u001b[39m=\u001b[39m\u001b[39m0\u001b[39m, \u001b[39m*\u001b[39margs, \u001b[39m*\u001b[39m\u001b[39m*\u001b[39mkwargs):\n\u001b[0;32m   1027\u001b[0m     nv\u001b[39m.\u001b[39mvalidate_resampler_func(_method, args, kwargs)\n\u001b[1;32m-> 1028\u001b[0m     \u001b[39mreturn\u001b[39;00m \u001b[39mself\u001b[39;49m\u001b[39m.\u001b[39;49m_downsample(_method, min_count\u001b[39m=\u001b[39;49mmin_count)\n",
            "File \u001b[1;32mc:\\Python310\\lib\\site-packages\\pandas\\core\\resample.py:1190\u001b[0m, in \u001b[0;36mDatetimeIndexResampler._downsample\u001b[1;34m(self, how, **kwargs)\u001b[0m\n\u001b[0;32m   1186\u001b[0m     \u001b[39mreturn\u001b[39;00m \u001b[39mself\u001b[39m\u001b[39m.\u001b[39masfreq()\n\u001b[0;32m   1188\u001b[0m \u001b[39m# we are downsampling\u001b[39;00m\n\u001b[0;32m   1189\u001b[0m \u001b[39m# we want to call the actual grouper method here\u001b[39;00m\n\u001b[1;32m-> 1190\u001b[0m result \u001b[39m=\u001b[39m obj\u001b[39m.\u001b[39mgroupby(\u001b[39mself\u001b[39m\u001b[39m.\u001b[39mgrouper, axis\u001b[39m=\u001b[39m\u001b[39mself\u001b[39m\u001b[39m.\u001b[39maxis)\u001b[39m.\u001b[39maggregate(how, \u001b[39m*\u001b[39m\u001b[39m*\u001b[39mkwargs)\n\u001b[0;32m   1192\u001b[0m result \u001b[39m=\u001b[39m \u001b[39mself\u001b[39m\u001b[39m.\u001b[39m_apply_loffset(result)\n\u001b[0;32m   1193\u001b[0m \u001b[39mreturn\u001b[39;00m \u001b[39mself\u001b[39m\u001b[39m.\u001b[39m_wrap_result(result)\n",
            "File \u001b[1;32mc:\\Python310\\lib\\site-packages\\pandas\\core\\groupby\\generic.py:265\u001b[0m, in \u001b[0;36mSeriesGroupBy.aggregate\u001b[1;34m(self, func, engine, engine_kwargs, *args, **kwargs)\u001b[0m\n\u001b[0;32m    262\u001b[0m     kwargs \u001b[39m=\u001b[39m {}\n\u001b[0;32m    264\u001b[0m \u001b[39mif\u001b[39;00m \u001b[39misinstance\u001b[39m(func, \u001b[39mstr\u001b[39m):\n\u001b[1;32m--> 265\u001b[0m     \u001b[39mreturn\u001b[39;00m \u001b[39mgetattr\u001b[39m(\u001b[39mself\u001b[39m, func)(\u001b[39m*\u001b[39margs, \u001b[39m*\u001b[39m\u001b[39m*\u001b[39mkwargs)\n\u001b[0;32m    267\u001b[0m \u001b[39melif\u001b[39;00m \u001b[39misinstance\u001b[39m(func, abc\u001b[39m.\u001b[39mIterable):\n\u001b[0;32m    268\u001b[0m     \u001b[39m# Catch instances of lists / tuples\u001b[39;00m\n\u001b[0;32m    269\u001b[0m     \u001b[39m# but not the class list / tuple itself.\u001b[39;00m\n\u001b[0;32m    270\u001b[0m     func \u001b[39m=\u001b[39m maybe_mangle_lambdas(func)\n",
            "File \u001b[1;32mc:\\Python310\\lib\\site-packages\\pandas\\core\\groupby\\groupby.py:2266\u001b[0m, in \u001b[0;36mGroupBy.last\u001b[1;34m(self, numeric_only, min_count)\u001b[0m\n\u001b[0;32m   2263\u001b[0m     \u001b[39melse\u001b[39;00m:  \u001b[39m# pragma: no cover\u001b[39;00m\n\u001b[0;32m   2264\u001b[0m         \u001b[39mraise\u001b[39;00m \u001b[39mTypeError\u001b[39;00m(\u001b[39mtype\u001b[39m(obj))\n\u001b[1;32m-> 2266\u001b[0m \u001b[39mreturn\u001b[39;00m \u001b[39mself\u001b[39;49m\u001b[39m.\u001b[39;49m_agg_general(\n\u001b[0;32m   2267\u001b[0m     numeric_only\u001b[39m=\u001b[39;49mnumeric_only,\n\u001b[0;32m   2268\u001b[0m     min_count\u001b[39m=\u001b[39;49mmin_count,\n\u001b[0;32m   2269\u001b[0m     alias\u001b[39m=\u001b[39;49m\u001b[39m\"\u001b[39;49m\u001b[39mlast\u001b[39;49m\u001b[39m\"\u001b[39;49m,\n\u001b[0;32m   2270\u001b[0m     npfunc\u001b[39m=\u001b[39;49mlast_compat,\n\u001b[0;32m   2271\u001b[0m )\n",
            "File \u001b[1;32mc:\\Python310\\lib\\site-packages\\pandas\\core\\groupby\\groupby.py:1506\u001b[0m, in \u001b[0;36mGroupBy._agg_general\u001b[1;34m(self, numeric_only, min_count, alias, npfunc)\u001b[0m\n\u001b[0;32m   1494\u001b[0m \u001b[39m@final\u001b[39m\n\u001b[0;32m   1495\u001b[0m \u001b[39mdef\u001b[39;00m \u001b[39m_agg_general\u001b[39m(\n\u001b[0;32m   1496\u001b[0m     \u001b[39mself\u001b[39m,\n\u001b[1;32m   (...)\u001b[0m\n\u001b[0;32m   1501\u001b[0m     npfunc: Callable,\n\u001b[0;32m   1502\u001b[0m ):\n\u001b[0;32m   1504\u001b[0m     \u001b[39mwith\u001b[39;00m \u001b[39mself\u001b[39m\u001b[39m.\u001b[39m_group_selection_context():\n\u001b[0;32m   1505\u001b[0m         \u001b[39m# try a cython aggregation if we can\u001b[39;00m\n\u001b[1;32m-> 1506\u001b[0m         result \u001b[39m=\u001b[39m \u001b[39mself\u001b[39;49m\u001b[39m.\u001b[39;49m_cython_agg_general(\n\u001b[0;32m   1507\u001b[0m             how\u001b[39m=\u001b[39;49malias,\n\u001b[0;32m   1508\u001b[0m             alt\u001b[39m=\u001b[39;49mnpfunc,\n\u001b[0;32m   1509\u001b[0m             numeric_only\u001b[39m=\u001b[39;49mnumeric_only,\n\u001b[0;32m   1510\u001b[0m             min_count\u001b[39m=\u001b[39;49mmin_count,\n\u001b[0;32m   1511\u001b[0m         )\n\u001b[0;32m   1512\u001b[0m         \u001b[39mreturn\u001b[39;00m result\u001b[39m.\u001b[39m__finalize__(\u001b[39mself\u001b[39m\u001b[39m.\u001b[39mobj, method\u001b[39m=\u001b[39m\u001b[39m\"\u001b[39m\u001b[39mgroupby\u001b[39m\u001b[39m\"\u001b[39m)\n",
            "File \u001b[1;32mc:\\Python310\\lib\\site-packages\\pandas\\core\\groupby\\groupby.py:1592\u001b[0m, in \u001b[0;36mGroupBy._cython_agg_general\u001b[1;34m(self, how, alt, numeric_only, min_count)\u001b[0m\n\u001b[0;32m   1588\u001b[0m     \u001b[39mreturn\u001b[39;00m result\n\u001b[0;32m   1590\u001b[0m \u001b[39m# TypeError -> we may have an exception in trying to aggregate\u001b[39;00m\n\u001b[0;32m   1591\u001b[0m \u001b[39m#  continue and exclude the block\u001b[39;00m\n\u001b[1;32m-> 1592\u001b[0m new_mgr \u001b[39m=\u001b[39m data\u001b[39m.\u001b[39;49mgrouped_reduce(array_func, ignore_failures\u001b[39m=\u001b[39;49m\u001b[39mTrue\u001b[39;49;00m)\n\u001b[0;32m   1594\u001b[0m \u001b[39mif\u001b[39;00m \u001b[39mnot\u001b[39;00m is_ser \u001b[39mand\u001b[39;00m \u001b[39mlen\u001b[39m(new_mgr) \u001b[39m<\u001b[39m \u001b[39mlen\u001b[39m(data):\n\u001b[0;32m   1595\u001b[0m     warn_dropping_nuisance_columns_deprecated(\u001b[39mtype\u001b[39m(\u001b[39mself\u001b[39m), how)\n",
            "File \u001b[1;32mc:\\Python310\\lib\\site-packages\\pandas\\core\\internals\\base.py:199\u001b[0m, in \u001b[0;36mSingleDataManager.grouped_reduce\u001b[1;34m(self, func, ignore_failures)\u001b[0m\n\u001b[0;32m    193\u001b[0m \u001b[39m\"\"\"\u001b[39;00m\n\u001b[0;32m    194\u001b[0m \u001b[39mignore_failures : bool, default False\u001b[39;00m\n\u001b[0;32m    195\u001b[0m \u001b[39m    Not used; for compatibility with ArrayManager/BlockManager.\u001b[39;00m\n\u001b[0;32m    196\u001b[0m \u001b[39m\"\"\"\u001b[39;00m\n\u001b[0;32m    198\u001b[0m arr \u001b[39m=\u001b[39m \u001b[39mself\u001b[39m\u001b[39m.\u001b[39marray\n\u001b[1;32m--> 199\u001b[0m res \u001b[39m=\u001b[39m func(arr)\n\u001b[0;32m    200\u001b[0m index \u001b[39m=\u001b[39m default_index(\u001b[39mlen\u001b[39m(res))\n\u001b[0;32m    202\u001b[0m mgr \u001b[39m=\u001b[39m \u001b[39mtype\u001b[39m(\u001b[39mself\u001b[39m)\u001b[39m.\u001b[39mfrom_array(res, index)\n",
            "File \u001b[1;32mc:\\Python310\\lib\\site-packages\\pandas\\core\\groupby\\groupby.py:1578\u001b[0m, in \u001b[0;36mGroupBy._cython_agg_general.<locals>.array_func\u001b[1;34m(values)\u001b[0m\n\u001b[0;32m   1576\u001b[0m \u001b[39mdef\u001b[39;00m \u001b[39marray_func\u001b[39m(values: ArrayLike) \u001b[39m-\u001b[39m\u001b[39m>\u001b[39m ArrayLike:\n\u001b[0;32m   1577\u001b[0m     \u001b[39mtry\u001b[39;00m:\n\u001b[1;32m-> 1578\u001b[0m         result \u001b[39m=\u001b[39m \u001b[39mself\u001b[39;49m\u001b[39m.\u001b[39;49mgrouper\u001b[39m.\u001b[39;49m_cython_operation(\n\u001b[0;32m   1579\u001b[0m             \u001b[39m\"\u001b[39;49m\u001b[39maggregate\u001b[39;49m\u001b[39m\"\u001b[39;49m, values, how, axis\u001b[39m=\u001b[39;49mdata\u001b[39m.\u001b[39;49mndim \u001b[39m-\u001b[39;49m \u001b[39m1\u001b[39;49m, min_count\u001b[39m=\u001b[39;49mmin_count\n\u001b[0;32m   1580\u001b[0m         )\n\u001b[0;32m   1581\u001b[0m     \u001b[39mexcept\u001b[39;00m \u001b[39mNotImplementedError\u001b[39;00m:\n\u001b[0;32m   1582\u001b[0m         \u001b[39m# generally if we have numeric_only=False\u001b[39;00m\n\u001b[0;32m   1583\u001b[0m         \u001b[39m# and non-applicable functions\u001b[39;00m\n\u001b[0;32m   1584\u001b[0m         \u001b[39m# try to python agg\u001b[39;00m\n\u001b[0;32m   1585\u001b[0m         \u001b[39m# TODO: shouldn't min_count matter?\u001b[39;00m\n\u001b[0;32m   1586\u001b[0m         result \u001b[39m=\u001b[39m \u001b[39mself\u001b[39m\u001b[39m.\u001b[39m_agg_py_fallback(values, ndim\u001b[39m=\u001b[39mdata\u001b[39m.\u001b[39mndim, alt\u001b[39m=\u001b[39malt)\n",
            "File \u001b[1;32mc:\\Python310\\lib\\site-packages\\pandas\\core\\groupby\\ops.py:937\u001b[0m, in \u001b[0;36mBaseGrouper._cython_operation\u001b[1;34m(self, kind, values, how, axis, min_count, **kwargs)\u001b[0m\n\u001b[0;32m    933\u001b[0m \u001b[39massert\u001b[39;00m kind \u001b[39min\u001b[39;00m [\u001b[39m\"\u001b[39m\u001b[39mtransform\u001b[39m\u001b[39m\"\u001b[39m, \u001b[39m\"\u001b[39m\u001b[39maggregate\u001b[39m\u001b[39m\"\u001b[39m]\n\u001b[0;32m    935\u001b[0m cy_op \u001b[39m=\u001b[39m WrappedCythonOp(kind\u001b[39m=\u001b[39mkind, how\u001b[39m=\u001b[39mhow)\n\u001b[1;32m--> 937\u001b[0m ids, _, _ \u001b[39m=\u001b[39m \u001b[39mself\u001b[39;49m\u001b[39m.\u001b[39;49mgroup_info\n\u001b[0;32m    938\u001b[0m ngroups \u001b[39m=\u001b[39m \u001b[39mself\u001b[39m\u001b[39m.\u001b[39mngroups\n\u001b[0;32m    939\u001b[0m \u001b[39mreturn\u001b[39;00m cy_op\u001b[39m.\u001b[39mcython_operation(\n\u001b[0;32m    940\u001b[0m     values\u001b[39m=\u001b[39mvalues,\n\u001b[0;32m    941\u001b[0m     axis\u001b[39m=\u001b[39maxis,\n\u001b[1;32m   (...)\u001b[0m\n\u001b[0;32m    945\u001b[0m     \u001b[39m*\u001b[39m\u001b[39m*\u001b[39mkwargs,\n\u001b[0;32m    946\u001b[0m )\n",
            "File \u001b[1;32mc:\\Python310\\lib\\site-packages\\pandas\\_libs\\properties.pyx:37\u001b[0m, in \u001b[0;36mpandas._libs.properties.CachedProperty.__get__\u001b[1;34m()\u001b[0m\n",
            "File \u001b[1;32mc:\\Python310\\lib\\site-packages\\pandas\\core\\groupby\\ops.py:1135\u001b[0m, in \u001b[0;36mBinGrouper.group_info\u001b[1;34m(self)\u001b[0m\n\u001b[0;32m   1133\u001b[0m ngroups \u001b[39m=\u001b[39m \u001b[39mself\u001b[39m\u001b[39m.\u001b[39mngroups\n\u001b[0;32m   1134\u001b[0m obs_group_ids \u001b[39m=\u001b[39m np\u001b[39m.\u001b[39marange(ngroups, dtype\u001b[39m=\u001b[39mnp\u001b[39m.\u001b[39mintp)\n\u001b[1;32m-> 1135\u001b[0m rep \u001b[39m=\u001b[39m np\u001b[39m.\u001b[39mdiff(np\u001b[39m.\u001b[39;49mr_[\u001b[39m0\u001b[39;49m, \u001b[39mself\u001b[39;49m\u001b[39m.\u001b[39;49mbins])\n\u001b[0;32m   1137\u001b[0m rep \u001b[39m=\u001b[39m ensure_platform_int(rep)\n\u001b[0;32m   1138\u001b[0m \u001b[39mif\u001b[39;00m ngroups \u001b[39m==\u001b[39m \u001b[39mlen\u001b[39m(\u001b[39mself\u001b[39m\u001b[39m.\u001b[39mbins):\n",
            "File \u001b[1;32mc:\\Python310\\lib\\site-packages\\numpy\\lib\\index_tricks.py:412\u001b[0m, in \u001b[0;36mAxisConcatenator.__getitem__\u001b[1;34m(self, key)\u001b[0m\n\u001b[0;32m    409\u001b[0m     \u001b[39mfor\u001b[39;00m k \u001b[39min\u001b[39;00m scalars:\n\u001b[0;32m    410\u001b[0m         objs[k] \u001b[39m=\u001b[39m objs[k]\u001b[39m.\u001b[39mastype(final_dtype)\n\u001b[1;32m--> 412\u001b[0m res \u001b[39m=\u001b[39m \u001b[39mself\u001b[39;49m\u001b[39m.\u001b[39;49mconcatenate(\u001b[39mtuple\u001b[39;49m(objs), axis\u001b[39m=\u001b[39;49maxis)\n\u001b[0;32m    414\u001b[0m \u001b[39mif\u001b[39;00m matrix:\n\u001b[0;32m    415\u001b[0m     oldndim \u001b[39m=\u001b[39m res\u001b[39m.\u001b[39mndim\n",
            "File \u001b[1;32m<__array_function__ internals>:180\u001b[0m, in \u001b[0;36mconcatenate\u001b[1;34m(*args, **kwargs)\u001b[0m\n",
            "\u001b[1;31mKeyboardInterrupt\u001b[0m: "
          ]
        }
      ],
      "source": [
        "gerarTodasEstrategiasESalvar(\"OnlyUpdate\")\n",
        "gerarTodasEstrategiasESalvar(\"OnlyInsertNew\")\n"
      ]
    }
  ],
  "metadata": {
    "colab": {
      "collapsed_sections": [],
      "include_colab_link": true,
      "name": "Gerador de Parâmetros para estratégias.ipynb",
      "provenance": []
    },
    "kernelspec": {
      "display_name": "Python 3.10.5 64-bit",
      "language": "python",
      "name": "python3"
    },
    "language_info": {
      "codemirror_mode": {
        "name": "ipython",
        "version": 3
      },
      "file_extension": ".py",
      "mimetype": "text/x-python",
      "name": "python",
      "nbconvert_exporter": "python",
      "pygments_lexer": "ipython3",
      "version": "3.10.5"
    },
    "vscode": {
      "interpreter": {
        "hash": "369f2c481f4da34e4445cda3fffd2e751bd1c4d706f27375911949ba6bb62e1c"
      }
    }
  },
  "nbformat": 4,
  "nbformat_minor": 0
}
