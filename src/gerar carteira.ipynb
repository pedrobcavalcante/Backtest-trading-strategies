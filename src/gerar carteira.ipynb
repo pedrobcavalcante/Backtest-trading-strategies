{
 "cells": [
  {
   "cell_type": "code",
   "execution_count": null,
   "metadata": {},
   "outputs": [],
   "source": [
    "import datetime as dt\n",
    "from tinydb import TinyDB\n",
    "import os\n",
    "import sys\n",
    "dir2 = os.path.abspath('')\n",
    "dir1 = os.path.dirname(dir2)\n",
    "if not dir1 in sys.path:\n",
    "    sys.path.append(dir1)\n"
   ]
  },
  {
   "cell_type": "code",
   "execution_count": null,
   "metadata": {},
   "outputs": [],
   "source": [
    "from services.crypto_get_data import getData\n",
    "from strategys.SmaCross import SmaCrossSignal\n",
    "from strategys.HiLo import HiLoSignal\n",
    "from services.condicao import funcaoDeCondicao"
   ]
  },
  {
   "cell_type": "code",
   "execution_count": null,
   "metadata": {},
   "outputs": [],
   "source": [
    "cwd = os.getcwd()\n",
    "path = os.path.join(\"..\", 'DB', 'estrategys.json')\n",
    "db = TinyDB(path)\n",
    "table = db.table('estrategys')"
   ]
  },
  {
   "cell_type": "code",
   "execution_count": null,
   "metadata": {},
   "outputs": [],
   "source": [
    "def funcaoLimitadoraGerarCarteira(estrategia):\n",
    "    result = estrategia['results']\n",
    "    return funcaoDeCondicao(result)"
   ]
  },
  {
   "cell_type": "code",
   "execution_count": null,
   "metadata": {},
   "outputs": [],
   "source": [
    "estrategias = table.search(funcaoLimitadoraGerarCarteira)\n",
    "estrategias.sort(key=lambda x: x['results']['Weighted Average Trade'], reverse=True)"
   ]
  },
  {
   "cell_type": "code",
   "execution_count": null,
   "metadata": {},
   "outputs": [],
   "source": [
    "def verifyStrategy(strategy):\n",
    "    try:\n",
    "        ticket = strategy['ticket']\n",
    "        history = getData(ticket, period=1000,\n",
    "                          interval=strategy[\"strategy\"][\"timeFrame\"])\n",
    "        if strategy['strategy']['name'] == 'SmaCrossStrategy':\n",
    "            smaCurta = int(strategy['strategy']['params'][0])\n",
    "            smaLonga = int(strategy['strategy']['params'][1])\n",
    "            result = SmaCrossSignal(\n",
    "                history, smaCurta=smaCurta, smaLonga=smaLonga)\n",
    "            return result\n",
    "        elif strategy['strategy']['name'] == 'HiLoStrategy':\n",
    "            smaHigh = int(strategy['strategy']['params'][0])\n",
    "            smaLow = int(strategy['strategy']['params'][1])\n",
    "            result = HiLoSignal(\n",
    "                history, smaHigh=smaHigh, smaLow=smaLow)\n",
    "            return result\n",
    "    except AttributeError:\n",
    "        return None\n",
    "    except Exception as e:\n",
    "        print(\"Erro na verificação da estratégia. Erro:\")\n",
    "        print(e)\n",
    "        return None\n"
   ]
  },
  {
   "cell_type": "code",
   "execution_count": null,
   "metadata": {},
   "outputs": [],
   "source": [
    "dbcompras = TinyDB(os.path.join('..', 'DB', 'compras.json'))\n",
    "tabelaOrdens = dbcompras.table('ordens')\n",
    "ListaOrdens = tabelaOrdens.all()\n",
    "tabelaDeComprados = dbcompras.table('comprados')\n",
    "listaDeComprados = tabelaDeComprados.all()"
   ]
  },
  {
   "cell_type": "code",
   "execution_count": null,
   "metadata": {},
   "outputs": [],
   "source": [
    "def extraCondition(estrategia):\n",
    "    estrategy = estrategia['strategy']\n",
    "    valor =  estrategy['name'] == 'HiLoStrategy' and 1 in estrategy['params']\n",
    "    valor = not valor\n",
    "    return  valor"
   ]
  },
  {
   "cell_type": "code",
   "execution_count": null,
   "metadata": {},
   "outputs": [],
   "source": [
    "listaDeVendas = []\n",
    "listaDeAtivosVenda = []\n",
    "for estrategia in listaDeComprados:\n",
    "    result = verifyStrategy(estrategia)\n",
    "    if result is not None:\n",
    "        result.pop('df')\n",
    "        if result['signal'].lower() == 'sell' and estrategia['ticket'] not in listaDeAtivosVenda:\n",
    "            estrategia['signal'] = {\"signal\": 'sell', \"close\": result['close']}\n",
    "            estrategia['OrderDate'] = dt.datetime.now().strftime(\n",
    "                \"%Y-%m-%d %H:%M:%S\")\n",
    "            print(\"Removido: \", estrategia['ticket'])\n",
    "            listaDeVendas.append(estrategia)\n",
    "            listaDeAtivosVenda.append(estrategia['ticket'])\n",
    "            tabelaDeComprados.remove(doc_ids=[estrategia.doc_id])\n",
    "\n",
    "tabelaOrdens.insert_multiple(listaDeVendas)\n",
    "ListaOrdens = tabelaOrdens.all()\n",
    "listaDeComprados = tabelaDeComprados.all()\n"
   ]
  },
  {
   "cell_type": "code",
   "execution_count": null,
   "metadata": {},
   "outputs": [],
   "source": [
    "sell = tabelaOrdens.search(lambda x: x['signal']['signal'] == 'sell')\n",
    "len(sell)"
   ]
  },
  {
   "cell_type": "code",
   "execution_count": null,
   "metadata": {},
   "outputs": [],
   "source": [
    "# remove listaDeVendas from tabelaDeComprados\n",
    "# condicao = lambda x: x['ticket']  in listaDeAtivosVenda['ticket'] and x['ticket'] == listaDeAtivosVenda['ticket']\n",
    "for venda in sell:\n",
    "    for comprado in tabelaDeComprados.all():\n",
    "        if comprado['ticket'] == venda['ticket'] and comprado[\"strategy\"][\"name\"] == venda[\"strategy\"][\"name\"] and comprado[\"strategy\"][\"params\"] == venda[\"strategy\"][\"params\"] and comprado[\"strategy\"][\"timeFrame\"] == venda[\"strategy\"][\"timeFrame\"]:\n",
    "            print(comprado['ticket'], \" \", venda['ticket'])\n",
    "            print(comprado['strategy'], \" \", venda['strategy'])\n",
    "            tabelaDeComprados.remove(doc_ids=[comprado.doc_id])    \n"
   ]
  },
  {
   "cell_type": "code",
   "execution_count": 12,
   "metadata": {},
   "outputs": [
    {
     "name": "stdout",
     "output_type": "stream",
     "text": [
      "Adicionado:  BNX total de ativos:  10\n",
      "Adicionado:  BNX total de comprados:  8\n"
     ]
    }
   ],
   "source": [
    "listaDeAtivos = []\n",
    "novaListaDeComprados = []\n",
    "for comprado in listaDeComprados:\n",
    "    if comprado['ticket'] not in listaDeAtivos:\n",
    "        listaDeAtivos.append(comprado['ticket'])\n",
    "        novaListaDeComprados.append(comprado)\n",
    "for vendido in listaDeVendas:\n",
    "    if vendido['ticket'] not in listaDeAtivos:\n",
    "        listaDeAtivos.append(vendido['ticket'])\n",
    "for estrategia in estrategias:\n",
    "    if len(novaListaDeComprados) >= 10:\n",
    "        break\n",
    "    result = verifyStrategy(estrategia)\n",
    "    if result is not None:\n",
    "        if result['signal'] == 'Buy' and estrategia['ticket'] not in listaDeAtivos and extraCondition(estrategia):\n",
    "            if 'signal' in estrategia.keys():\n",
    "                estrategia['signal']['buy'] = result['close']\n",
    "            else:\n",
    "                result.pop('df')\n",
    "                estrategia['signal'] = result\n",
    "                resultado = estrategia['results']\n",
    "                resultado.pop('Start')\n",
    "                resultado.pop('End')\n",
    "                resultado.pop('Volatility (Ann.) [%]')\n",
    "                resultado.pop('_trades')\n",
    "                estrategia.pop('updateDate')\n",
    "                estrategia['OrderDate'] = dt.datetime.now().strftime(\n",
    "                    \"%Y-%m-%d %H:%M:%S\")\n",
    "            listaDeAtivos.append(estrategia['ticket'])\n",
    "            novaListaDeComprados.append(dict(estrategia))\n",
    "            tabelaDeComprados.insert(dict(estrategia))\n",
    "            tabelaOrdens.insert(dict(estrategia))\n",
    "            print(\"Adicionado: \", estrategia['ticket'], \"total de ativos: \", len(listaDeAtivos))\n",
    "            print(\"Adicionado: \", estrategia['ticket'], \"total de comprados: \", len(novaListaDeComprados))\n",
    "\n"
   ]
  },
  {
   "cell_type": "code",
   "execution_count": 13,
   "metadata": {},
   "outputs": [
    {
     "name": "stdout",
     "output_type": "stream",
     "text": [
      "Venda:  POWR\n",
      "     valor:  $ 0.2618\n",
      "     chance de acerto:  81 %\n",
      "     Total de Trades:  94\n",
      "     Média de perda quando erra:  -32 %\n",
      "     Média de lucro quando acerta:  9814 %\n",
      "     Fator de Lucro:  77\n",
      "     Média de Lucro de Todos os Trades:  126 %\n",
      "Venda:  TRX\n",
      "     valor:  $ 0.0724\n",
      "     chance de acerto:  49 %\n",
      "     Total de Trades:  63\n",
      "     Média de perda quando erra:  -20 %\n",
      "     Média de lucro quando acerta:  266 %\n",
      "     Fator de Lucro:  7\n",
      "     Média de Lucro de Todos os Trades:  34 %\n",
      "Compra:  BTC\n",
      "     valor:  $ 46827.76\n",
      "     chance de acerto:  74 %\n",
      "     Total de Trades:  167\n",
      "     Média de perda quando erra:  -16 %\n",
      "     Média de lucro quando acerta:  18742 %\n",
      "     Fator de Lucro:  91\n",
      "     Média de Lucro de Todos os Trades:  205 %\n",
      "Compra:  SYS\n",
      "     valor:  $ 0.6878\n",
      "     chance de acerto:  85 %\n",
      "     Total de Trades:  77\n",
      "     Média de perda quando erra:  -29 %\n",
      "     Média de lucro quando acerta:  46698 %\n",
      "     Fator de Lucro:  190\n",
      "     Média de Lucro de Todos os Trades:  244 %\n",
      "Compra:  GNO\n",
      "     valor:  $ 401.3\n",
      "     chance de acerto:  87 %\n",
      "     Total de Trades:  65\n",
      "     Média de perda quando erra:  -17 %\n",
      "     Média de lucro quando acerta:  103366 %\n",
      "     Fator de Lucro:  363\n",
      "     Média de Lucro de Todos os Trades:  284 %\n",
      "Compra:  BNB\n",
      "     valor:  $ 430.5\n",
      "     chance de acerto:  63 %\n",
      "     Total de Trades:  93\n",
      "     Média de perda quando erra:  -15 %\n",
      "     Média de lucro quando acerta:  18960 %\n",
      "     Fator de Lucro:  99\n",
      "     Média de Lucro de Todos os Trades:  190 %\n",
      "Compra:  DREP\n",
      "     valor:  $ 0.6891\n",
      "     chance de acerto:  66 %\n",
      "     Total de Trades:  15\n",
      "     Média de perda quando erra:  -22 %\n",
      "     Média de lucro quando acerta:  1068024 %\n",
      "     Fator de Lucro:  944\n",
      "     Média de Lucro de Todos os Trades:  1131 %\n",
      "Compra:  REQ\n",
      "     valor:  $ 0.2673\n",
      "     chance de acerto:  88 %\n",
      "     Total de Trades:  79\n",
      "     Média de perda quando erra:  -31 %\n",
      "     Média de lucro quando acerta:  21361 %\n",
      "     Fator de Lucro:  110\n",
      "     Média de Lucro de Todos os Trades:  193 %\n",
      "Compra:  ANY\n",
      "     valor:  $ 13.27\n",
      "     chance de acerto:  51 %\n",
      "     Total de Trades:  27\n",
      "     Média de perda quando erra:  -13 %\n",
      "     Média de lucro quando acerta:  74 %\n",
      "     Fator de Lucro:  4\n",
      "     Média de Lucro de Todos os Trades:  16 %\n",
      "Compra:  BNX\n",
      "     valor:  $ 136.2\n",
      "     chance de acerto:  70 %\n",
      "     Total de Trades:  10\n",
      "     Média de perda quando erra:  -15 %\n",
      "     Média de lucro quando acerta:  2112 %\n",
      "     Fator de Lucro:  33\n",
      "     Média de Lucro de Todos os Trades:  63 %\n"
     ]
    }
   ],
   "source": [
    "barra = \"    \"\n",
    "resultados = listaDeVendas + novaListaDeComprados\n",
    "for resultado in resultados:\n",
    "    if resultado['signal']['signal'].lower() == 'sell':\n",
    "        print('Venda: ', resultado['ticket'].replace('USDT', ''))\n",
    "    if resultado['signal']['signal'].lower() == 'buy':\n",
    "        print('Compra: ', resultado['ticket'].replace('USDT', ''))\n",
    "    print(barra, 'valor: ',  '$', resultado['signal']['close'])\n",
    "    print(barra, 'chance de acerto: ',  int(\n",
    "        resultado['results']['Win Rate [%]']), '%')\n",
    "    print(barra, 'Total de Trades: ',  int(resultado['results']['# Trades']))\n",
    "    print(barra, 'Média de perda quando erra: ',  int(\n",
    "        resultado['results']['Avg. Drawdown [%]']), '%')\n",
    "    print(barra, 'Média de lucro quando acerta: ',  int(\n",
    "        resultado['results']['Avg. Trade [%]']*resultado['results']['Profit Factor']), '%')\n",
    "    print(barra, 'Fator de Lucro: ',  int(\n",
    "        resultado['results']['Profit Factor']))\n",
    "    print(barra, 'Média de Lucro de Todos os Trades: ',\n",
    "          int(resultado['results']['Avg. Trade [%]']), '%')\n"
   ]
  }
 ],
 "metadata": {
  "interpreter": {
   "hash": "74ab7c6ffe6706754a8af46cc4d18eebe476c74ce21a19282f620e1b1e9919fe"
  },
  "kernelspec": {
   "display_name": "Python 3.8.8 64-bit ('base': conda)",
   "name": "python3"
  },
  "language_info": {
   "codemirror_mode": {
    "name": "ipython",
    "version": 3
   },
   "file_extension": ".py",
   "mimetype": "text/x-python",
   "name": "python",
   "nbconvert_exporter": "python",
   "pygments_lexer": "ipython3",
   "version": "3.9.7"
  },
  "orig_nbformat": 4
 },
 "nbformat": 4,
 "nbformat_minor": 2
}
