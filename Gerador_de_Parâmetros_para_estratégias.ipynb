{
  "cells": [
    {
      "cell_type": "markdown",
      "metadata": {
        "colab_type": "text",
        "id": "view-in-github"
      },
      "source": [
        "<a href=\"https://colab.research.google.com/github/pedrobcavalcante/Backtest-trading-strategies/blob/main/Gerador_de_Par%C3%A2metros_para_estrat%C3%A9gias.ipynb\" target=\"_parent\"><img src=\"https://colab.research.google.com/assets/colab-badge.svg\" alt=\"Open In Colab\"/></a>\n"
      ]
    },
    {
      "cell_type": "code",
      "execution_count": null,
      "metadata": {
        "colab": {
          "base_uri": "https://localhost:8080/"
        },
        "id": "JyEwn_wHZqNQ",
        "outputId": "cf50d3dd-ca3f-432f-c1fa-6eb8b7464eb9"
      },
      "outputs": [],
      "source": [
        "import backtesting\n",
        "from backtesting import Backtest, Strategy\n",
        "from backtesting.lib import crossover\n",
        "import os.path\n",
        "import requests\n",
        "import json\n",
        "import pandas as pd\n",
        "import numpy as np\n",
        "import matplotlib.pyplot as plt\n",
        "import datetime as dt\n",
        "backtesting.set_bokeh_output(notebook=False)\n"
      ]
    },
    {
      "cell_type": "code",
      "execution_count": null,
      "metadata": {
        "id": "InNo_vMAZqNW"
      },
      "outputs": [],
      "source": [
        "from backtesting.test import SMA, GOOG\n",
        "# GOOG.to_csv(\"data/GOOG.csv\")\n"
      ]
    },
    {
      "cell_type": "code",
      "execution_count": null,
      "metadata": {
        "id": "YQf2kD3TZqNY"
      },
      "outputs": [],
      "source": [
        "def fixData(data):\n",
        "    columns = ['open_time', 'Open', 'High', 'Low', 'Close', 'Volume',\n",
        "               'close_time', 'qav', 'num_trades',\n",
        "               'taker_base_vol', 'taker_quote_vol', 'ignore']\n",
        "    df = pd.DataFrame(data, columns=columns)\n",
        "    df.index = [dt.datetime.fromtimestamp(x/1000.0) for x in df.close_time]\n",
        "    df.sort_values([\"open_time\"], ascending=False)\n",
        "    df = df.astype('double')\n",
        "    df['Volume'] = df['Volume'].astype('int')\n",
        "    df = df.drop(['qav', 'num_trades', 'taker_base_vol',\n",
        "                 'taker_quote_vol', 'ignore'], axis=1)\n",
        "    return df\n"
      ]
    },
    {
      "cell_type": "code",
      "execution_count": null,
      "metadata": {
        "id": "Im8kCNAZZqNZ"
      },
      "outputs": [],
      "source": [
        "def get_bars(symbol, interval='1h'):\n",
        "    root_url = 'https://api.binance.com/api/v1/klines'\n",
        "    filename = \"data/\"+symbol+\"_\"+interval+\".csv\"\n",
        "    url = root_url + '?symbol=' + symbol + '&interval=' + interval+\"&limit=1001\"\n",
        "    print(url)\n",
        "    data = json.loads(requests.get(url).text)\n",
        "    df = fixData(data)\n",
        "#    df.to_csv(filename, sep=';')\n",
        "    return df\n"
      ]
    },
    {
      "cell_type": "code",
      "execution_count": null,
      "metadata": {
        "colab": {
          "base_uri": "https://localhost:8080/",
          "height": 436
        },
        "id": "5JIpu4mKZqNa",
        "outputId": "24e9a2e4-5471-4202-88e4-ade0a83317b7"
      },
      "outputs": [],
      "source": [
        "dataframe = get_bars(\"BTCUSDT\", \"1d\")\n",
        "dataframe\n"
      ]
    },
    {
      "cell_type": "code",
      "execution_count": null,
      "metadata": {
        "id": "ReOM_Q73ZqNc"
      },
      "outputs": [],
      "source": [
        "class SmaCross(Strategy):\n",
        "    n1 = 0\n",
        "    n2 = 0\n",
        "\n",
        "    def init(self):\n",
        "        # Precompute the two moving averages\n",
        "        self.sma1 = self.I(SMA, self.data.Close, self.n1)\n",
        "        self.sma2 = self.I(SMA, self.data.Close, self.n2)\n",
        "        \n",
        "\n",
        "    def next(self):\n",
        "        # If sma1 crosses above sma2, close any existing\n",
        "        # short trades, and buy the asset\n",
        "        if crossover(self.sma1, self.sma2):\n",
        "            self.buy()\n",
        "\n",
        "        # Else, if sma1 crosses below sma2, close any existing\n",
        "        # long trades, and sell the asset\n",
        "        elif crossover(self.sma2, self.sma1):\n",
        "            self.position.close()\n",
        "\n",
        "    def setInitialParams(self, valor1, valor2):\n",
        "        self.n1 = valor1\n",
        "        self.n2 = valor2\n"
      ]
    },
    {
      "cell_type": "code",
      "execution_count": null,
      "metadata": {
        "id": "4AOluaURZqNe"
      },
      "outputs": [],
      "source": [
        "def gerarParametros(dataframe, name, myStrategy, tamanho):\n",
        "    maiorRetorno = {}\n",
        "    maoirAcerto = {}\n",
        "    BoasEstratégiasParaSalvar = []\n",
        "    for s1 in range(tamanho):\n",
        "        s1 += 1\n",
        "        print(\"\\ntestando nos valor \", s1, end=\" \")\n",
        "        for s2 in range(tamanho):\n",
        "            s2 += 1\n",
        "            # print(\",\", s2, end=\"\")\n",
        "            try:\n",
        "                SmaCross.setInitialParams(SmaCross, s1, s2)\n",
        "                bt = Backtest(dataframe, myStrategy,\n",
        "                              cash=100000000, exclusive_orders=True)\n",
        "                output = bt.run()\n",
        "                if maiorRetorno == {}:\n",
        "                    maiorRetorno = {\"sma1\": s1, \"sma2\": s2, \"output\": output}\n",
        "                if maoirAcerto == {}:\n",
        "                    maoirAcerto = {\"sma1\": s1, \"sma2\": s2, \"output\": output}\n",
        "                if output['Return [%]'] > maiorRetorno[\"output\"]['Return [%]'] and output['# Trades'] > 9:\n",
        "                    maiorRetorno = {\"sma1\": s1, \"sma2\": s2, \"output\": output}\n",
        "                if output['Return [%]'] > 0 and output['# Trades'] > 9:\n",
        "                    BoasEstratégiasParaSalvar.append(\n",
        "                        {\"sma1\": s1, \"sma2\": s2, \"output\": output})\n",
        "        #         if output['Win Rate [%]'] > maiorRetorno[\"output\"]['Win Rate [%]'] and output['# Trades'] > 9:\n",
        "        #             maoirAcerto = {\"sma1\": s1, \"sma2\":s2, \"output\":output}\n",
        "            except Exception as e:\n",
        "                print(e)\n",
        "    if not os.path.exists('estrategy results'):\n",
        "        os.makedirs('estrategy results')\n",
        "    bestParamtes = pd.DataFrame(BoasEstratégiasParaSalvar)\n",
        "    bestParamtes.to_csv(\"estrategy results/\"+name+\".csv\", sep=';')\n"
      ]
    },
    {
      "cell_type": "code",
      "execution_count": null,
      "metadata": {
        "id": "GHdILAcBZqNg"
      },
      "outputs": [],
      "source": [
        "data = json.loads(requests.get(\n",
        "    \"https://api.binance.com/api/v1/exchangeInfo\").text)\n",
        "data = data['symbols']\n"
      ]
    },
    {
      "cell_type": "code",
      "execution_count": null,
      "metadata": {
        "id": "52v2j1zNZqNh"
      },
      "outputs": [],
      "source": [
        "pares = []\n",
        "matches = [x for x in data if x['quoteAsset'] == \"USDT\"]\n",
        "matches.sort\n",
        "for matche in matches:\n",
        "    if  not matche['symbol'] == \"ADAUSDT\" and not matche['symbol'] == \"BNBUSDT\" and not match['symbol'] == \"BTCUSDT\" and not match['symbol'] == \"EOSUSDT\" and not matche['symbol'] == \"ETHUSDT\"  and not matche['symbol'] == \"IOTAUSDT\"  and not matche['symbol'] == \"LTCUSDT\"  and not matche['symbol'] == \"NEOUSDT\"  and not matche['symbol'] == \"ONTUSDT\"  and not matche['symbol'] == \"QTUMUSDT\"  and not matche['symbol'] == \"TUSDUSDT\"  and not matche['symbol'] == \"XLMUSDT\"  and not matche['symbol'] == \"XRPUSDT\"\n",
        "        print('\\n', matche['symbol'])\n",
        "        dataframe = get_bars(matche['symbol'], \"1w\")\n",
        "        filename = matche['symbol']+\"_\"+\"1w_SmaCross_Strategy\"\n",
        "        gerarParametros(dataframe, filename, SmaCross, 100)\n"
      ]
    },
    {
      "cell_type": "code",
      "execution_count": null,
      "metadata": {
        "id": "OyNRlnILZqNi"
      },
      "outputs": [],
      "source": [
        "# print(maiorRetorno)\n",
        "# print(maoirAcerto)\n",
        "# print(BoasEstratégiasParaSalvar)\n",
        "# gerarParametros()\n",
        "# bestParamtes = pd.DataFrame (BoasEstratégiasParaSalvar)\n",
        "# bestParamtes.to_csv(\"estrategy results/melhores parametros.csv\", sep=';')\n"
      ]
    },
    {
      "cell_type": "markdown",
      "metadata": {
        "id": "VKfrrsecgTcx"
      },
      "source": [
        "# Nova seção\n"
      ]
    },
    {
      "cell_type": "code",
      "execution_count": null,
      "metadata": {
        "id": "6AKQCVnqZqNj"
      },
      "outputs": [],
      "source": [
        "\n",
        "# SmaCross.setInitialParams(SmaCross,12, 15)\n",
        "# bt = Backtest(GOOG, SmaCross,cash=1000,exclusive_orders=True)\n",
        "# output = bt.run()\n",
        "# print(output)\n",
        "# SmaCross.setInitialParams(SmaCross,29, 30)\n",
        "# bt = Backtest(dataframe, SmaCross,cash=1000000)\n",
        "# output = bt.run()\n",
        "# output\n",
        "# bt.plot()\n"
      ]
    },
    {
      "cell_type": "code",
      "execution_count": null,
      "metadata": {
        "id": "P1nbIxPvZqNj"
      },
      "outputs": [],
      "source": []
    }
  ],
  "metadata": {
    "colab": {
      "collapsed_sections": [],
      "include_colab_link": true,
      "name": "Gerador de Parâmetros para estratégias.ipynb",
      "provenance": []
    },
    "interpreter": {
      "hash": "74ab7c6ffe6706754a8af46cc4d18eebe476c74ce21a19282f620e1b1e9919fe"
    },
    "kernelspec": {
      "display_name": "Python 3.8.8 64-bit ('base': conda)",
      "name": "python3"
    },
    "language_info": {
      "codemirror_mode": {
        "name": "ipython",
        "version": 3
      },
      "file_extension": ".py",
      "mimetype": "text/x-python",
      "name": "python",
      "nbconvert_exporter": "python",
      "pygments_lexer": "ipython3",
      "version": "3.8.8"
    }
  },
  "nbformat": 4,
  "nbformat_minor": 0
}
