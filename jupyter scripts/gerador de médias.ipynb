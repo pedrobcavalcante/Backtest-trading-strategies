{
 "cells": [
  {
   "cell_type": "code",
   "execution_count": null,
   "metadata": {},
   "outputs": [],
   "source": [
    "import os\n",
    "from tinydb import TinyDB, where\n",
    "dir2 = os.path.abspath('')\n",
    "dir1 = os.path.dirname(dir2)\n",
    "if not dir1 in sys.path:\n",
    "    sys.path.append(dir1)\n",
    "from src.services.gerador_de_medias import calcularMedias\n",
    "from src.services.gerador_de_medias import inserirMedias\n",
    "import sys\n",
    "import os\n",
    "from tinydb import TinyDB"
   ]
  },
  {
   "cell_type": "code",
   "execution_count": null,
   "metadata": {},
   "outputs": [],
   "source": [
    "path = os.path.join(\"..\", 'DB', 'estrategys.json')\n",
    "db = TinyDB(path)\n",
    "estrategys = db.table('estrategys')\n",
    "medias = db.table('medias')"
   ]
  },
  {
   "cell_type": "code",
   "execution_count": null,
   "metadata": {},
   "outputs": [],
   "source": [
    "estrategysAll = estrategys.all()"
   ]
  },
  {
   "cell_type": "code",
   "execution_count": null,
   "metadata": {},
   "outputs": [],
   "source": [
    "\n",
    "resultado = calcularMedias(estrategysAll, [\"Return [%]\", \"Sharpe Ratio\", \"Sortino Ratio\", \"Calmar Ratio\", \"Avg. Drawdown [%]\",\n",
    "                                           \"Max. Drawdown [%]\", \"Avg. Drawdown Duration\", \"Win Rate [%]\", \"Avg. Trade [%]\", \"Profit Factor\", \"Expectancy [%]\", \"SQN\"])\n",
    "medias.truncate()\n",
    "inserirMedias(medias, resultado)"
   ]
  },
  {
   "cell_type": "code",
   "execution_count": null,
   "metadata": {},
   "outputs": [],
   "source": [
    "print(medias.all())\n",
    "for media in medias.all():\n",
    "    try:\n",
    "        print(media['parametro'], end=\" \")\n",
    "        res = estrategys.search(where('results')[media['parametro']]>media['media'])\n",
    "        print(len(res))\n",
    "    except:\n",
    "        print(\"Erro\")"
   ]
  }
 ],
 "metadata": {
  "interpreter": {
   "hash": "c48f9583c36f4245dd19069df255229ad1c5a3946a68b7b434cb88cb38eef44e"
  },
  "kernelspec": {
   "display_name": "Python 3.10.0 64-bit ('backtestvenv': venv)",
   "language": "python",
   "name": "python3"
  },
  "language_info": {
   "codemirror_mode": {
    "name": "ipython",
    "version": 3
   },
   "file_extension": ".py",
   "mimetype": "text/x-python",
   "name": "python",
   "nbconvert_exporter": "python",
   "pygments_lexer": "ipython3",
   "version": "3.8.8"
  },
  "orig_nbformat": 4
 },
 "nbformat": 4,
 "nbformat_minor": 2
}
