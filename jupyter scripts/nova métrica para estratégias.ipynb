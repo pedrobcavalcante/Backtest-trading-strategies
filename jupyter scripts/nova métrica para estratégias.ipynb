{
 "cells": [
  {
   "cell_type": "code",
   "execution_count": null,
   "metadata": {},
   "outputs": [],
   "source": [
    "\n",
    "import os\n",
    "from tinydb import TinyDB, table\n",
    "import os\n",
    "import sys\n",
    "import datetime\n",
    "dir2 = os.path.abspath('')\n",
    "dir1 = os.path.dirname(dir2)\n",
    "if not dir1 in sys.path:\n",
    "    sys.path.append(dir1)\n",
    "from src.services.generateWeightedAverageTrade import generateWeightedAverageTrade\n"
   ]
  },
  {
   "cell_type": "code",
   "execution_count": null,
   "metadata": {},
   "outputs": [],
   "source": [
    "def insertIntTableOfUpdates(updateTable, ticket, strategyName, strategyTimeFrame):\n",
    "\n",
    "    def lambdaContains(\n",
    "        x): return x['ticket'] == ticket['ticket'] and x['strategy'] == strategyName and x['timeFrame'] == strategyTimeFrame\n",
    "    if updateTable.contains(lambdaContains):\n",
    "        res = updateTable.search(lambdaContains)\n",
    "        dbDate = datetime.datetime.strptime(res[0]['updateDate'],'%Y-%m-%d %H:%M:%S')\n",
    "        ticketDate = datetime.datetime.strptime(ticket['updateDate'],'%Y-%m-%d %H:%M:%S')\n",
    "        print(\"Ja existe uma entrada com os parametros informados.\")\n",
    "        if ticketDate < dbDate:\n",
    "            print(\"A entrada do ticket é mais antiga que a entrada do banco de dados. Ela será atualizada.\")\n",
    "            updateTable.update(\n",
    "                {\"updateDate\": ticket['updateDate']}, lambdaContains)\n",
    "    else:\n",
    "        print(\n",
    "            \"Nao existe uma sentrada com os parametros informados. Sera inserido uma nova.\")\n",
    "        updateTable.insert({\"ticket\": ticket['ticket'], \"updateDate\": ticket['updateDate'],\n",
    "                           \"strategy\": strategyName, \"timeFrame\": strategyTimeFrame})\n"
   ]
  },
  {
   "cell_type": "code",
   "execution_count": null,
   "metadata": {},
   "outputs": [],
   "source": [
    "path = os.path.join(\"..\", 'DB', 'estrategys.json')\n",
    "db = TinyDB(path)\n",
    "estrategys = db.table('estrategys')\n",
    "update = db.table(\"update\")"
   ]
  },
  {
   "cell_type": "code",
   "execution_count": null,
   "metadata": {},
   "outputs": [],
   "source": [
    "strategysForUpdate = []\n",
    "total = len(estrategys)\n",
    "print(total)\n",
    "count = 0\n",
    "for estrategy in estrategys:\n",
    "    print(count,\" \", end=\"\")\n",
    "    result = estrategy['results']\n",
    "    result['Weighted Average Trade'] = generateWeightedAverageTrade(result)\n",
    "    estrategys.upsert(table.Document(\n",
    "        {'Weighted Average Trade': result['Weighted Average Trade']}, doc_id=estrategy.doc_id))\n",
    "    insertIntTableOfUpdates(update, estrategy, estrategy['strategy']['name'], estrategy['strategy']['timeFrame'])\n",
    "    count += 1\n",
    "    # break\n",
    "\n"
   ]
  }
 ],
 "metadata": {
  "interpreter": {
   "hash": "c48f9583c36f4245dd19069df255229ad1c5a3946a68b7b434cb88cb38eef44e"
  },
  "kernelspec": {
   "display_name": "Python 3.10.0 64-bit ('backtestvenv': venv)",
   "language": "python",
   "name": "python3"
  },
  "language_info": {
   "codemirror_mode": {
    "name": "ipython",
    "version": 3
   },
   "file_extension": ".py",
   "mimetype": "text/x-python",
   "name": "python",
   "nbconvert_exporter": "python",
   "pygments_lexer": "ipython3",
   "version": "3.9.7"
  },
  "orig_nbformat": 4
 },
 "nbformat": 4,
 "nbformat_minor": 2
}
