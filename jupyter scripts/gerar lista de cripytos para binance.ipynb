{
 "cells": [
  {
   "cell_type": "code",
   "execution_count": 10,
   "metadata": {},
   "outputs": [],
   "source": [
    "import ccxt\n",
    "import tinydb\n",
    "import pandas as pd"
   ]
  },
  {
   "cell_type": "code",
   "execution_count": 11,
   "metadata": {},
   "outputs": [],
   "source": [
    "binance = ccxt.binance()\n"
   ]
  },
  {
   "cell_type": "code",
   "execution_count": 12,
   "metadata": {},
   "outputs": [
    {
     "name": "stdout",
     "output_type": "stream",
     "text": [
      "<class 'dict'>\n"
     ]
    }
   ],
   "source": [
    "paresUSDT = []\n",
    "pares = binance.load_markets()\n",
    "print(type(pares))"
   ]
  },
  {
   "cell_type": "code",
   "execution_count": 13,
   "metadata": {},
   "outputs": [],
   "source": [
    "\n",
    "for par, data in pares.items():\n",
    "    # if data[\"active\"] == True:\n",
    "    #     print(par, data)\n",
    "    if not data[\"base\"].__contains__('USD') and data[\"quote\"].__contains__('USDT') and not (len(data[\"info\"][\"permissions\"]) <= 1 and \"LEVERAGE\" in data[\"info\"][\"permissions\"]) and (data[\"info\"][\"isSpotTradingAllowed\"] or data[\"info\"][\"isMarginTradingAllowed\"] or \"SPOT\" in data[\"info\"][\"permissions\"] or \"MARGIN\" in data[\"info\"][\"permissions\"]) and data[\"active\"]:\n",
    "        paresUSDT.append(par)\n"
   ]
  },
  {
   "cell_type": "code",
   "execution_count": 14,
   "metadata": {},
   "outputs": [],
   "source": [
    "binance = tinydb.TinyDB(os.path.join(\"..\",'DB','binance.json'))\n",
    "db = binance\n",
    "db.drop_table('pares')\n",
    "db = binance.table('pares')\n",
    "#clean db table\n",
    "for par in paresUSDT:\n",
    "    db.insert({'par': par,'quota':par.split('/')[0], 'assert':par.split('/')[1]})"
   ]
  },
  {
   "cell_type": "code",
   "execution_count": null,
   "metadata": {},
   "outputs": [],
   "source": []
  }
 ],
 "metadata": {
  "interpreter": {
   "hash": "74ab7c6ffe6706754a8af46cc4d18eebe476c74ce21a19282f620e1b1e9919fe"
  },
  "kernelspec": {
   "display_name": "Python 3.8.8 64-bit ('base': conda)",
   "language": "python",
   "name": "python3"
  },
  "language_info": {
   "codemirror_mode": {
    "name": "ipython",
    "version": 3
   },
   "file_extension": ".py",
   "mimetype": "text/x-python",
   "name": "python",
   "nbconvert_exporter": "python",
   "pygments_lexer": "ipython3",
   "version": "3.9.7"
  },
  "orig_nbformat": 4
 },
 "nbformat": 4,
 "nbformat_minor": 2
}
