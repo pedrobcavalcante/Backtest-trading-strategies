{
 "cells": [
  {
   "cell_type": "code",
   "execution_count": null,
   "metadata": {},
   "outputs": [],
   "source": [
    "import pandas as pd\n",
    "from pandas import Timestamp\n",
    "import datetime as dt\n",
    "import os\n",
    "import yfinance as yf\n",
    "import ccxt\n"
   ]
  },
  {
   "cell_type": "code",
   "execution_count": null,
   "metadata": {},
   "outputs": [],
   "source": [
    "def indexConverter(data):\n",
    "    data['index'] = data.index\n",
    "    data['index'] = data['index'].apply(lambda x: Timestamp(x))\n",
    "    data['index'] = data['index'].apply(\n",
    "        lambda x: x.strftime('%Y-%m-%d %H:%M:%S'))\n",
    "    data['index'] = pd.to_datetime(data['index'])\n",
    "    data = data.set_index('index')\n",
    "    data = data.sort_index()\n",
    "    return data\n"
   ]
  },
  {
   "cell_type": "code",
   "execution_count": null,
   "metadata": {},
   "outputs": [],
   "source": [
    "def binance(ticket, period: int = 1000, interval='1w', params: any = {}):\n",
    "    binance = ccxt.binance()\n",
    "    binance.fetch_ticker(ticket)\n",
    "    data = binance.fetch_ohlcv(ticket, interval, limit=period, params=params)\n",
    "    data = pd.DataFrame(\n",
    "        data, columns=['Date', 'Open', 'High', 'Low', 'Close', 'Volume'])\n",
    "    data['Date'] = pd.to_datetime(data['Date'], unit='ms')\n",
    "    data = data.set_index('Date')\n",
    "    data = data.sort_index()\n",
    "    return data[-period:]\n"
   ]
  },
  {
   "cell_type": "code",
   "execution_count": null,
   "metadata": {},
   "outputs": [],
   "source": [
    "def yahooFinance(baseAsset, end: str, quoteAsset: str = \"USDT\",  interval='1w'):\n",
    "    try:\n",
    "        if quoteAsset.upper().__contains__(\"USDT\"):\n",
    "            quoteAsset = \"USD\"\n",
    "        ticket = baseAsset+\"-\"+quoteAsset\n",
    "        if interval == '1w':\n",
    "            interval = '1wk'\n",
    "        res = yf.download(ticket, period='max',\n",
    "                          interval=interval, end=end)\n",
    "        return res\n",
    "    except Exception as e:\n",
    "        print(e)\n",
    "        return None\n"
   ]
  },
  {
   "cell_type": "code",
   "execution_count": null,
   "metadata": {},
   "outputs": [],
   "source": [
    "def verifyData(lastDataIndexSaved, interval):\n",
    "    now = dt.datetime.now()\n",
    "    if interval == '1w':\n",
    "        interval = 7\n",
    "    if interval == '1d':\n",
    "        interval = 1\n",
    "    return now - lastDataIndexSaved > dt.timedelta(days=interval)   \n",
    "    "
   ]
  },
  {
   "cell_type": "code",
   "execution_count": null,
   "metadata": {},
   "outputs": [],
   "source": [
    "def getData(baseAsset, quoteAsset=\"USDT\", period=1000, interval='1w'):\n",
    "    baseAsset = baseAsset.upper()\n",
    "    pathName = \"data/\"+baseAsset.lower()+\"-\"+quoteAsset.lower()+\"_\"+interval+\".csv\"\n",
    "    if not os.path.exists(pathName):\n",
    "        print(\"Baixando dados da Binance\")\n",
    "        data = binance(baseAsset+\"/\"+quoteAsset, period, interval)\n",
    "        data = indexConverter(data)\n",
    "        if period > len(data):\n",
    "            print(\"Baixando dados do Yahoo Finance\")\n",
    "            res = yahooFinance(baseAsset, data.index[-1], quoteAsset, interval)\n",
    "            res = indexConverter(res)\n",
    "            data = data.append(res)\n",
    "            data = data.reset_index().drop_duplicates(\n",
    "                subset='index', keep='first').set_index('index')\n",
    "            data = data.sort_index()\n",
    "    else:\n",
    "        print(\"Carregando dados do arquivo: \"+pathName)\n",
    "        data = pd.read_csv(pathName, index_col=0)\n",
    "        data = indexConverter(data)\n",
    "        if verifyData(data.index[-1], interval):\n",
    "            dataUpdate = binance(baseAsset+\"/\"+quoteAsset, period, interval)\n",
    "            dataUpdate = indexConverter(dataUpdate)\n",
    "            data = data.append(dataUpdate)\n",
    "            data = data.reset_index().drop_duplicates(\n",
    "                subset='index', keep='first').set_index('index')\n",
    "            data = data.sort_index()\n",
    "    data.to_csv(pathName)\n",
    "    return data[-period:]\n"
   ]
  },
  {
   "cell_type": "code",
   "execution_count": null,
   "metadata": {},
   "outputs": [],
   "source": [
    "import sys\n",
    "import os\n",
    "import backtesting \n",
    "from backtesting import Backtest\n",
    "import pandas as pd\n",
    "import datetime as dt\n",
    "dir2 = os.path.abspath('')\n",
    "dir1 = os.path.dirname(dir2)\n",
    "if not dir1 in sys.path: sys.path.append(dir1)\n",
    "from src.strategys.HiLo import HiLoStrategy as HiLoStrategy\n",
    "import pandas as pd\n",
    "backtesting.set_bokeh_output(notebook=False)\n",
    "data = getData(\"BTC\")\n",
    "HiLoStrategy.setInitialParams(HiLoStrategy, [3,2])\n",
    "bt = Backtest(data, HiLoStrategy, cash=1000000000, exclusive_orders=False)\n",
    "output = bt.run()\n",
    "print(output)\n",
    "bt.plot()"
   ]
  }
 ],
 "metadata": {
  "interpreter": {
   "hash": "74ab7c6ffe6706754a8af46cc4d18eebe476c74ce21a19282f620e1b1e9919fe"
  },
  "kernelspec": {
   "display_name": "Python 3.8.8 64-bit ('base': conda)",
   "name": "python3"
  },
  "language_info": {
   "codemirror_mode": {
    "name": "ipython",
    "version": 3
   },
   "file_extension": ".py",
   "mimetype": "text/x-python",
   "name": "python",
   "nbconvert_exporter": "python",
   "pygments_lexer": "ipython3",
   "version": "3.9.7"
  },
  "orig_nbformat": 4
 },
 "nbformat": 4,
 "nbformat_minor": 2
}
