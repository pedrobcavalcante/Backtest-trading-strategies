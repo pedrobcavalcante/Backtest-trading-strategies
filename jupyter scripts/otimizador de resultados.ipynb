{
  "cells": [
    {
      "cell_type": "markdown",
      "metadata": {
        "colab_type": "text",
        "id": "view-in-github"
      },
      "source": [
        "<a href=\"https://colab.research.google.com/github/pedrobcavalcante/Backtest-trading-strategies/blob/main/Gerador_de_Par%C3%A2metros_para_estrat%C3%A9gias.ipynb\" target=\"_parent\"><img src=\"https://colab.research.google.com/assets/colab-badge.svg\" alt=\"Open In Colab\"/></a>\n"
      ]
    },
    {
      "cell_type": "code",
      "execution_count": null,
      "metadata": {
        "colab": {
          "base_uri": "https://localhost:8080/"
        },
        "id": "JyEwn_wHZqNQ",
        "outputId": "cf50d3dd-ca3f-432f-c1fa-6eb8b7464eb9"
      },
      "outputs": [],
      "source": [
        "import backtesting\n",
        "import yfinance as yf\n",
        "from backtesting import Backtest, Strategy\n",
        "backtesting.set_bokeh_output(notebook=False)\n"
      ]
    },
    {
      "cell_type": "code",
      "execution_count": null,
      "metadata": {
        "id": "InNo_vMAZqNW"
      },
      "outputs": [],
      "source": [
        "from backtesting.test import SMA\n"
      ]
    },
    {
      "cell_type": "code",
      "execution_count": null,
      "metadata": {
        "id": "ReOM_Q73ZqNc"
      },
      "outputs": [],
      "source": [
        "class HiLo(Strategy):\n",
        "    n1 = 1\n",
        "    n2 = 1\n",
        "\n",
        "    def init(self):\n",
        "        self.sma1 = self.I(SMA, self.data.High, self.n1)\n",
        "        self.sma2 = self.I(SMA, self.data.Low, self.n2)\n",
        "\n",
        "    def next(self):\n",
        "        if self.data.Close > self.sma1 and not self.position.is_long:\n",
        "            self.buy()\n",
        "\n",
        "        if self.sma2 > self.data.Close:\n",
        "            self.position.close()\n",
        "\n",
        "    def setInitialParams(self, valor1, valor2):\n",
        "        self.n1 = valor1\n",
        "        self.n2 = valor2"
      ]
    },
    {
      "cell_type": "code",
      "execution_count": null,
      "metadata": {
        "id": "4AOluaURZqNe"
      },
      "outputs": [],
      "source": [
        "def gerarParametros(dataframe, myStrategy, tamanho):\n",
        "    maiorRetorno = {}\n",
        "    BoasEstratégiasParaSalvar = []\n",
        "\n",
        "    for s1 in range(tamanho):\n",
        "        s1 += 1\n",
        "        print(\"\\nTESTE sma1: \", s1,end=' ')\n",
        "        print(\"sma2: \", s1, end=\" \")\n",
        "        for s2 in range(tamanho):\n",
        "            s2 += 1\n",
        "            if(s2%10 == 0 or s2 == tamanho or s2 == 1 ):\n",
        "                print(\"\\n         \", end='')\n",
        "            print(\"sma2\", s2, end=\" || \")\n",
        "            try:\n",
        "                HiLo.setInitialParams(HiLo, s1, s2)\n",
        "                bt = Backtest(dataframe, myStrategy,cash=100000000, exclusive_orders=True)\n",
        "                output = bt.run()\n",
        "                if maiorRetorno == {}:\n",
        "                    maiorRetorno = {\"sma1\": s1, \"sma2\": s2, \"output\": output}\n",
        "                if output['Return [%]'] > maiorRetorno[\"output\"]['Return [%]'] and output['# Trades'] > 9:\n",
        "                    maiorRetorno = {\"sma1\": s1, \"sma2\": s2, \"output\": output}\n",
        "                if output['Return [%]'] > 0 and output['# Trades'] > 9:\n",
        "                    BoasEstratégiasParaSalvar.append(\n",
        "                        {\"sma1\": s1, \"sma2\": s2, \"output\": output})\n",
        "            except Exception as e:\n",
        "                print(e)\n",
        "    return {\"maiorRetorno\": maiorRetorno, \"BoasEstratégiasParaSalvar\": BoasEstratégiasParaSalvar}\n"
      ]
    },
    {
      "cell_type": "markdown",
      "metadata": {},
      "source": [
        "Mudar apenas os Parametros dessa celula:"
      ]
    },
    {
      "cell_type": "code",
      "execution_count": null,
      "metadata": {
        "id": "52v2j1zNZqNh"
      },
      "outputs": [],
      "source": [
        "# perido dos dados a serem textados:\n",
        "period = '10y'\n",
        "# tempo dos candlesticks:\n",
        "interval = '1wk' # 1 semana\n",
        "# ativo:\n",
        "ticket = \"ITSA4.SA\"\n",
        "# periodo da média móvel:\n",
        "sma = 20\n",
        "dataframe = yf.Ticker(ticket).history(period=period, interval=interval)\n",
        "dataframe = dataframe.dropna()\n",
        "res = gerarParametros(dataframe, HiLo, sma)\n"
      ]
    },
    {
      "cell_type": "code",
      "execution_count": null,
      "metadata": {},
      "outputs": [],
      "source": [
        "HiLo.setInitialParams(HiLo, res['maiorRetorno']['sma1'], res['maiorRetorno']['sma2'])\n",
        "bt = Backtest(dataframe, HiLo,cash=1000000000, exclusive_orders=True)\n",
        "output = bt.run()\n",
        "print(output)\n",
        "bt.plot()"
      ]
    }
  ],
  "metadata": {
    "colab": {
      "collapsed_sections": [],
      "include_colab_link": true,
      "name": "Gerador de Parâmetros para estratégias.ipynb",
      "provenance": []
    },
    "interpreter": {
      "hash": "4668b2b94aebe22ab6a379c52b27e87f14fb5565ac42686a2db709d03229b54e"
    },
    "kernelspec": {
      "display_name": "Python 3.7.6 64-bit ('base': conda)",
      "name": "python3"
    },
    "language_info": {
      "codemirror_mode": {
        "name": "ipython",
        "version": 3
      },
      "file_extension": ".py",
      "mimetype": "text/x-python",
      "name": "python",
      "nbconvert_exporter": "python",
      "pygments_lexer": "ipython3",
      "version": "3.8.8"
    }
  },
  "nbformat": 4,
  "nbformat_minor": 0
}
