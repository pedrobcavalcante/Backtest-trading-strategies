{
 "cells": [
  {
   "cell_type": "code",
   "execution_count": null,
   "metadata": {},
   "outputs": [],
   "source": [
    "\n",
    "import os\n",
    "from tinydb import TinyDB, where\n"
   ]
  },
  {
   "cell_type": "code",
   "execution_count": null,
   "metadata": {},
   "outputs": [],
   "source": [
    "path = os.path.join(\"..\", 'DB', 'binance.json')\n",
    "dbBinance = TinyDB(path)\n",
    "estrategys = TinyDB(os.path.join(\"..\", 'DB', 'estrategys.json'))\n",
    "blacklist = dbBinance.table('blacklist')\n",
    "binance = dbBinance.table('pares')"
   ]
  },
  {
   "cell_type": "code",
   "execution_count": null,
   "metadata": {},
   "outputs": [],
   "source": [
    "binanceAll = binance.all()\n",
    "for i in binanceAll:\n",
    "    if i['quota'].__contains__('USD'):\n",
    "        print(i['quota'])\n",
    "        binance.remove(where('quota')==i['quota']) \n",
    "        estrategys.remove(where('ticket')==i['quota'])\n"
   ]
  },
  {
   "cell_type": "code",
   "execution_count": null,
   "metadata": {},
   "outputs": [],
   "source": []
  }
 ],
 "metadata": {
  "interpreter": {
   "hash": "c48f9583c36f4245dd19069df255229ad1c5a3946a68b7b434cb88cb38eef44e"
  },
  "kernelspec": {
   "display_name": "Python 3.10.0 64-bit ('backtestvenv': venv)",
   "language": "python",
   "name": "python3"
  },
  "language_info": {
   "codemirror_mode": {
    "name": "ipython",
    "version": 3
   },
   "file_extension": ".py",
   "mimetype": "text/x-python",
   "name": "python",
   "nbconvert_exporter": "python",
   "pygments_lexer": "ipython3",
   "version": "3.10.0"
  },
  "orig_nbformat": 4
 },
 "nbformat": 4,
 "nbformat_minor": 2
}
