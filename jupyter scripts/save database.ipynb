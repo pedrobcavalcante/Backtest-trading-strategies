{
 "cells": [
  {
   "cell_type": "markdown",
   "metadata": {},
   "source": [
    "#Adicionando TinyDb\n"
   ]
  },
  {
   "cell_type": "code",
   "execution_count": null,
   "metadata": {},
   "outputs": [],
   "source": [
    "from tinydb import TinyDB, Query\n",
    "from pymongo import MongoClient\n",
    "import datetime\n",
    "import os\n",
    "import pandas as pd"
   ]
  },
  {
   "cell_type": "code",
   "execution_count": null,
   "metadata": {},
   "outputs": [],
   "source": [
    "db = TinyDB(os.path.join('DB', 'estrategys.json'))"
   ]
  },
  {
   "cell_type": "code",
   "execution_count": null,
   "metadata": {},
   "outputs": [],
   "source": [
    "listaDeArquivosDeEstrategias = os.listdir(\"estrategy results\")"
   ]
  },
  {
   "cell_type": "code",
   "execution_count": null,
   "metadata": {},
   "outputs": [],
   "source": [
    "doc1 = pd.read_csv(os.path.join(\"estrategy results\",\n",
    "                   listaDeArquivosDeEstrategias[0]), sep=';')"
   ]
  },
  {
   "cell_type": "code",
   "execution_count": null,
   "metadata": {},
   "outputs": [],
   "source": [
    "def stringToDf(string):\n",
    "    df = pd.DataFrame([x.split(';') for x in string.split('\\n')])\n",
    "    df.columns = ['variable']\n",
    "    df['value'] = df['variable'].apply(lambda x: x.split('   ')[-1])\n",
    "    df['variable'] = df['variable'].apply(lambda x: x.split('   ')[0])\n",
    "    return df\n"
   ]
  },
  {
   "cell_type": "code",
   "execution_count": null,
   "metadata": {},
   "outputs": [],
   "source": [
    "def iterate_df(df):\n",
    "    maiorValor = []\n",
    "    for i in range(len(df)):\n",
    "        maiorValor.append(df.iloc[i].to_dict())\n",
    "    return maiorValor\n"
   ]
  },
  {
   "cell_type": "code",
   "execution_count": null,
   "metadata": {},
   "outputs": [],
   "source": [
    "iterado = iterate_df(doc1)\n",
    "arrey = listaDeArquivosDeEstrategias[0].split(\"_\")\n",
    "final = stringToDf(iterado[0]['output'])"
   ]
  },
  {
   "cell_type": "code",
   "execution_count": null,
   "metadata": {},
   "outputs": [],
   "source": [
    "def dataframeParaDicionario(dicionario, arrey_do_nome_da_estrategia_separado):\n",
    "    try:\n",
    "        listaDeResultados = {}\n",
    "        for item in stringToDf(dicionario['output']).values.tolist():\n",
    "            item1 = item[0].replace('_', '').replace('#', '').strip()\n",
    "            item2 = item[1].replace('\\r', '').replace(\n",
    "                '\\n', '').replace('...', '').strip()\n",
    "\n",
    "            if item1 == \"Trades\" or item1 == \"Exposure Time [%]\" or item1 == \"Exposure Time [%]\" or item1 == \"Return [%]\" or item1 == \"Buy & Hold Return [%]\" or item1 == \"Return (Ann.) [%]\" or item1 == 'Volatility (Ann.) [%]' or item1 == 'Equity Final [$]' or item1 == 'Equity Peak [$]' or item1 == 'Sharpe Ratio' or item1 == 'Sortino Ratio' or item1 == 'Calmar Ratio' or item1 == 'Max. Drawdown [%]' or item1 == 'Avg. Drawdown [%]' or item1 == 'Win Rate [%]' or item1 == 'Best Trade [%]' or item1 == 'Worst Trade [%]' or item1 == 'Expectancy [%]' or item1 == 'SQN' or item1 == 'Profit Factor' or item1 == 'Avg. Trade [%]':\n",
    "                item2 = float(item2)\n",
    "            listaDeResultados.__setitem__(item1, item2)\n",
    "        resultado = {\"ticket\": arrey_do_nome_da_estrategia_separado[0], \"strategy\": {\n",
    "            \"name\": arrey_do_nome_da_estrategia_separado[2], \"timeFrame\": arrey_do_nome_da_estrategia_separado[1], \"params\": {\"SMA1\": float(dicionario['sma1']), \"SMA2\": float(dicionario['sma2']), }, },  \"results\": listaDeResultados}\n",
    "        return resultado\n",
    "    except Exception as e:\n",
    "        print(e)\n"
   ]
  },
  {
   "cell_type": "code",
   "execution_count": null,
   "metadata": {},
   "outputs": [],
   "source": [
    "def adicionarAListaDeResultado(lista, resultado):\n",
    "    # se o resultado não estiver na lista, adiciona\n",
    "    if resultado not in lista:\n",
    "        lista.append(resultado)\n",
    "    return lista"
   ]
  },
  {
   "cell_type": "code",
   "execution_count": null,
   "metadata": {},
   "outputs": [],
   "source": [
    "listaDeArquivosDeEstrategias = os.listdir(\"estrategy results\")\n",
    "index = 0\n",
    "for itemName in listaDeArquivosDeEstrategias:\n",
    "    doc1 = pd.read_csv(os.path.join(\"estrategy results\", itemName), sep=';')\n",
    "    resultado = iterate_df(doc1)\n",
    "    arrey_do_nome_da_estrategia_separado = itemName.split(\"_\")\n",
    "    print('inserindo: ', arrey_do_nome_da_estrategia_separado, 'index: ', index)\n",
    "    maxReturn = None\n",
    "    maxSharpeRatio = None\n",
    "    maxSortinoRatio = None\n",
    "    maxCalmarRatio = None\n",
    "    WinRate = None\n",
    "    maxProfitFactor = None\n",
    "    maxExpectancy = None\n",
    "    maxSQN = None\n",
    "    finalList = []\n",
    "    for dataframe in resultado:        \n",
    "        dictionary = dataframeParaDicionario(dataframe,arrey_do_nome_da_estrategia_separado)\n",
    "        if maxReturn == None or dictionary['results']['Return [%]'] > maxReturn['results']['Return [%]']:\n",
    "            maxReturn = dictionary\n",
    "        if maxSharpeRatio == None or dictionary['results']['Sharpe Ratio'] > maxSharpeRatio['results']['Sharpe Ratio']:\n",
    "            maxSharpeRatio = dictionary\n",
    "        if maxSortinoRatio == None or dictionary['results']['Sortino Ratio'] > maxSortinoRatio['results']['Sortino Ratio']:\n",
    "            maxSortinoRatio = dictionary\n",
    "        if maxCalmarRatio == None or dictionary['results']['Calmar Ratio'] > maxCalmarRatio['results']['Calmar Ratio']:\n",
    "            maxCalmarRatio = dictionary\n",
    "        if WinRate == None or dictionary['results']['Win Rate [%]'] > WinRate['results']['Win Rate [%]']:\n",
    "            WinRate = dictionary\n",
    "        if maxProfitFactor == None or dictionary['results']['Profit Factor'] > maxProfitFactor['results']['Profit Factor']:\n",
    "            maxProfitFactor = dictionary\n",
    "        if maxExpectancy == None or dictionary['results']['Expectancy [%]'] > maxExpectancy['results']['Expectancy [%]']:\n",
    "            maxExpectancy = dictionary\n",
    "        if maxSQN == None or dictionary['results']['SQN'] > maxSQN['results']['SQN']:\n",
    "            maxSQN = dictionary\n",
    "    finalList = adicionarAListaDeResultado(finalList, maxReturn)\n",
    "    finalList = adicionarAListaDeResultado(finalList, maxSharpeRatio)\n",
    "    finalList = adicionarAListaDeResultado(finalList, maxSortinoRatio)\n",
    "    finalList = adicionarAListaDeResultado(finalList, maxCalmarRatio)\n",
    "    finalList = adicionarAListaDeResultado(finalList, WinRate)\n",
    "    finalList = adicionarAListaDeResultado(finalList, maxProfitFactor)\n",
    "    finalList = adicionarAListaDeResultado(finalList, maxExpectancy)\n",
    "    finalList = adicionarAListaDeResultado(finalList, maxSQN)\n",
    "    print('total de itens: ',len(finalList))\n",
    "    table = db.table('estrategys')\n",
    "    if finalList != [None]:\n",
    "        table.insert_multiple(finalList)    \n",
    "    print('inserção completa.')\n",
    "    index = index + 1"
   ]
  }
 ],
 "metadata": {
  "interpreter": {
   "hash": "74ab7c6ffe6706754a8af46cc4d18eebe476c74ce21a19282f620e1b1e9919fe"
  },
  "kernelspec": {
   "display_name": "Python 3.8.8 64-bit ('base': conda)",
   "name": "python3"
  },
  "language_info": {
   "codemirror_mode": {
    "name": "ipython",
    "version": 3
   },
   "file_extension": ".py",
   "mimetype": "text/x-python",
   "name": "python",
   "nbconvert_exporter": "python",
   "pygments_lexer": "ipython3",
   "version": "3.8.8"
  },
  "orig_nbformat": 4
 },
 "nbformat": 4,
 "nbformat_minor": 2
}
