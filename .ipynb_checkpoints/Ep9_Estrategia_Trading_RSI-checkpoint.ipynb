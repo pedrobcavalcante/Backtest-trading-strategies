{
 "cells": [
  {
   "cell_type": "markdown",
   "metadata": {
    "id": "B-cAtOVd1ONl"
   },
   "source": [
    "**Pré-Tutorial**"
   ]
  },
  {
   "cell_type": "code",
   "execution_count": null,
   "metadata": {
    "id": "4BrEfLBH1KZs"
   },
   "outputs": [],
   "source": [
    "!pip install yfinance\n",
    "!pip install --upgrade matplotlib\n",
    "#!pip install matplotlib==3.1.3"
   ]
  },
  {
   "cell_type": "code",
   "execution_count": 1,
   "metadata": {
    "id": "kXGZyoGg1XzI"
   },
   "outputs": [],
   "source": [
    "#Calcular RSI\n",
    "####### Compute RSI\n",
    "#1º) Calcular Variação\n",
    "#2º) Identificar se é um ganho ou perda\n",
    "#3º) Calcular media movel (suavizada) de ganho e perda (janela definida pelo user)\n",
    "#4º) Calcular RS\n",
    "#5º) Calcular RSI\n",
    "\n",
    "def indicador_RSI(df,window):\n",
    "  df['change'] = df['Adj Close'] - df['Adj Close'].shift(1) #Calcular diferença entre fecho \n",
    "\n",
    "  df['gain'] = df.loc[df['change']>0,'change'].apply(abs) #Calcular Ganhos\n",
    "  df.loc[(df['gain'].isna()),'gain']= 0 \n",
    "  data[0,data.columns.get_loc('gain')] = np.NaN #df.loc[0,'gain'] = np.NaN\n",
    "\n",
    "\n",
    "  df['loss'] = df.loc[df['change']<0,'change'].apply(abs) #Calcular Perdas\n",
    "  df.loc[(df['loss'].isna()),'loss']= 0\n",
    "  data[0,data.columns.get_loc('loss')] = np.NaN #df.loc[0,'loss'] = np.NaN\n",
    "\n",
    "  ########### Average Gain/Loss\n",
    "  #Normalmente são considerados 14 periodos (neste caso vou usar dias)\n",
    "  df['avg_gain'] = df['gain'].rolling(window).mean()\n",
    "  df['avg_loss'] = df['loss'].rolling(window).mean()\n",
    "\n",
    "  #não pode ser vetorizado porque é uma formula recursiva\n",
    "  first = df['avg_gain'].first_valid_index() #identificar primeiro valor que não seja nulo/na\n",
    "\n",
    "  for index, row in df.iterrows():\n",
    "    if index == first: #gravar o primeiro não nulo\n",
    "      prev_avg_gain = row['avg_gain']\n",
    "      prev_avg_loss = row['avg_loss']\n",
    "    elif index > first: #calcular os seguintes (após o não nulo)\n",
    "      df.loc[index,'avg_gain']= ((prev_avg_gain*(window -1)) + row['gain'])/window\n",
    "      prev_avg_gain = df.loc[index,'avg_gain']\n",
    "\n",
    "      df.loc[index,'avg_loss']= ((prev_avg_loss*(window -1)) + row['loss'])/window\n",
    "      prev_avg_loss = df.loc[index,'avg_loss']\n",
    "\n",
    "  #### Compute RS e RSI\n",
    "  df[f'RS{window}'] = df['avg_gain']/df['avg_loss']\n",
    "  df[f'RSI{window}'] = 100 - (100 / (1 + df[f'RS{window}']))\n",
    "\n",
    "  #Filter Columns\n",
    "  lista = df.columns.to_list()\n",
    "  matching = [s for s in lista if \"RSI\" in s]\n",
    "  sel_col = ['Adj Close'] + matching\n",
    "\n",
    "  return df[sel_col].copy()"
   ]
  },
  {
   "cell_type": "markdown",
   "metadata": {
    "id": "FcVdf0Ll1lPg"
   },
   "source": [
    "**Tutorial**"
   ]
  },
  {
   "cell_type": "code",
   "execution_count": 10,
   "metadata": {
    "id": "K1oFX36l9ZiH"
   },
   "outputs": [],
   "source": [
    "import matplotlib.pyplot as plt\n",
    "import numpy as np\n",
    "import yfinance as yf\n",
    "import math"
   ]
  },
  {
   "cell_type": "code",
   "execution_count": null,
   "metadata": {
    "id": "DypkHzMo9uMH"
   },
   "outputs": [],
   "source": [
    "data = yf.download('TSLA','2016-01-01','2020-10-01')\n",
    "data.head()"
   ]
  },
  {
   "cell_type": "code",
   "execution_count": null,
   "metadata": {
    "id": "YkdOmI6s-G_U"
   },
   "outputs": [],
   "source": [
    "data_frame = indicador_RSI(data,14)\n",
    "data_frame.head(20)"
   ]
  },
  {
   "cell_type": "code",
   "execution_count": 13,
   "metadata": {
    "id": "UMOknsYK-so7"
   },
   "outputs": [],
   "source": [
    "filter_sell = (data_frame['RSI14'].shift(1)<70) & (data_frame['RSI14']>70)\n",
    "data_frame.loc[filter_sell,'Sell_Signal'] = data_frame.loc[filter_sell,'Adj Close']"
   ]
  },
  {
   "cell_type": "code",
   "execution_count": 14,
   "metadata": {
    "id": "fb-_oJFY_UfT"
   },
   "outputs": [],
   "source": [
    "filter_buy = (data_frame['RSI14'].shift(1)>30) & (data_frame['RSI14']<30)\n",
    "data_frame.loc[filter_buy,'Buy_Signal'] = data_frame.loc[filter_buy,'Adj Close']"
   ]
  },
  {
   "cell_type": "code",
   "execution_count": 15,
   "metadata": {
    "id": "qxYbe9Ss_uyf"
   },
   "outputs": [],
   "source": [
    "data_frame = data_frame.reset_index()\n",
    "filtered_data = data_frame.loc[(data_frame['Date']<'2020-12-01')&(data_frame['Date']>'2018-12-01')]"
   ]
  },
  {
   "cell_type": "code",
   "execution_count": 16,
   "metadata": {
    "id": "pr5cE93BAAfb"
   },
   "outputs": [],
   "source": [
    "plt.rcParams['figure.figsize'] = [6,4]\n",
    "plt.rcParams['figure.dpi'] = 100"
   ]
  },
  {
   "cell_type": "code",
   "execution_count": null,
   "metadata": {
    "id": "Wt9XG2UGAMlj"
   },
   "outputs": [],
   "source": [
    "fig, ax = plt.subplots()\n",
    "\n",
    "#Plot 1\n",
    "ax.plot(filtered_data['Date'],filtered_data['Adj Close'],label = 'Adj Close')\n",
    "\n",
    "#Plot 2\n",
    "ax2 = ax.twinx()\n",
    "ax2.plot(filtered_data['Date'],filtered_data['RSI14'],label='RSI14',color='gray',alpha=0.5)\n",
    "ax2.axhline(70,color='gray',ls='--',alpha=0.5)\n",
    "ax2.axhline(30,color='gray',ls='--',alpha=0.5)\n",
    "ax2.set_ylabel('RSI14')\n",
    "ax2.legend()\n",
    "\n",
    "ax.scatter(filtered_data['Date'],filtered_data['Buy_Signal'],label='Buy',marker='^',color='green',s=100)\n",
    "ax.scatter(filtered_data['Date'],filtered_data['Sell_Signal'],label='Sell',marker='v',color='red',s=100)\n",
    "\n",
    "ax.yaxis.set_major_formatter('${x:}')\n",
    "fig.autofmt_xdate()\n",
    "\n",
    "ax.set_title('Estratégia RSI')\n",
    "ax.set_ylabel('Adj_Close')\n",
    "ax.set_xlabel('Data')\n",
    "ax.legend()"
   ]
  }
 ],
 "metadata": {
  "colab": {
   "collapsed_sections": [],
   "name": "Tutorial 9 - Trading RSI.ipynb",
   "provenance": []
  },
  "kernelspec": {
   "display_name": "Python 3",
   "language": "python",
   "name": "python3"
  },
  "language_info": {
   "codemirror_mode": {
    "name": "ipython",
    "version": 3
   },
   "file_extension": ".py",
   "mimetype": "text/x-python",
   "name": "python",
   "nbconvert_exporter": "python",
   "pygments_lexer": "ipython3",
   "version": "3.7.6"
  }
 },
 "nbformat": 4,
 "nbformat_minor": 1
}
