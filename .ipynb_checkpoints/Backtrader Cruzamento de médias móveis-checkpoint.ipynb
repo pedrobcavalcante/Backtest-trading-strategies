{
 "cells": [
  {
   "cell_type": "code",
   "execution_count": 2,
   "metadata": {},
   "outputs": [],
   "source": [
    "from backtesting import Backtest, Strategy\n",
    "from backtesting.lib import crossover"
   ]
  },
  {
   "cell_type": "code",
   "execution_count": 3,
   "metadata": {},
   "outputs": [],
   "source": [
    "from backtesting.test import SMA, GOOG"
   ]
  },
  {
   "cell_type": "code",
   "execution_count": 4,
   "metadata": {},
   "outputs": [],
   "source": [
    "class SmaCross(Strategy):\n",
    "    n1 = 10\n",
    "    n2 = 20\n",
    "\n",
    "    def init(self):\n",
    "        close = self.data.Close\n",
    "        self.sma1 = self.I(SMA, close, self.n1)\n",
    "        self.sma2 = self.I(SMA, close, self.n2)\n",
    "\n",
    "    def next(self):\n",
    "        if crossover(self.sma1, self.sma2):\n",
    "            self.buy()\n",
    "        elif crossover(self.sma2, self.sma1):\n",
    "            self.sell()"
   ]
  },
  {
   "cell_type": "code",
   "execution_count": 5,
   "metadata": {},
   "outputs": [],
   "source": [
    "bt = Backtest(GOOG, SmaCross,\n",
    "              cash=10000, commission=.000,\n",
    "              exclusive_orders=True)"
   ]
  },
  {
   "cell_type": "code",
   "execution_count": 7,
   "metadata": {},
   "outputs": [
    {
     "name": "stdout",
     "output_type": "stream",
     "text": [
      "Start                     2004-08-19 00:00:00\n",
      "End                       2013-03-01 00:00:00\n",
      "Duration                   3116 days 00:00:00\n",
      "Exposure Time [%]                      97.067\n",
      "Equity Final [$]                        68222\n",
      "Equity Peak [$]                       68991.2\n",
      "Return [%]                             582.22\n",
      "Buy & Hold Return [%]                 703.458\n",
      "Return (Ann.) [%]                     25.2664\n",
      "Volatility (Ann.) [%]                  38.383\n",
      "Sharpe Ratio                         0.658271\n",
      "Sortino Ratio                         1.28878\n",
      "Calmar Ratio                         0.763748\n",
      "Max. Drawdown [%]                    -33.0822\n",
      "Avg. Drawdown [%]                    -5.58151\n",
      "Max. Drawdown Duration      688 days 00:00:00\n",
      "Avg. Drawdown Duration       41 days 00:00:00\n",
      "# Trades                                   94\n",
      "Win Rate [%]                          54.2553\n",
      "Best Trade [%]                        57.1193\n",
      "Worst Trade [%]                      -16.6299\n",
      "Avg. Trade [%]                        2.07433\n",
      "Max. Trade Duration         121 days 00:00:00\n",
      "Avg. Trade Duration          33 days 00:00:00\n",
      "Profit Factor                          2.1908\n",
      "Expectancy [%]                        2.60629\n",
      "SQN                                   1.99022\n",
      "_strategy                            SmaCross\n",
      "_equity_curve                             ...\n",
      "_trades                       Size  EntryB...\n",
      "dtype: object\n"
     ]
    }
   ],
   "source": [
    "output = bt.run()\n",
    "print(output)\n",
    "# bt.plot()"
   ]
  },
  {
   "cell_type": "code",
   "execution_count": null,
   "metadata": {},
   "outputs": [],
   "source": []
  }
 ],
 "metadata": {
  "kernelspec": {
   "display_name": "Python 3",
   "language": "python",
   "name": "python3"
  },
  "language_info": {
   "codemirror_mode": {
    "name": "ipython",
    "version": 3
   },
   "file_extension": ".py",
   "mimetype": "text/x-python",
   "name": "python",
   "nbconvert_exporter": "python",
   "pygments_lexer": "ipython3",
   "version": "3.7.6"
  }
 },
 "nbformat": 4,
 "nbformat_minor": 4
}
